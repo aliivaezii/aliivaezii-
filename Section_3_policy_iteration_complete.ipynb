{
  "cells": [
    {
      "cell_type": "markdown",
      "metadata": {
        "pycharm": {
          "name": "#%%\n"
        },
        "id": "b9jmpP4J6VbY"
      },
      "source": [
        "<div style=\"text-align:center\">\n",
        "    <h1>\n",
        "        Policy Iteration\n",
        "    </h1>\n",
        "</div>\n",
        "<br>\n",
        "\n",
        "<div style=\"text-align:center\">\n",
        "    <p>\n",
        "        In this notebook we are going to look at a dynamic programming algorithm called policy iteration. In it, we will iteratively interleave two processes: policy evaluation and policy improvement, until the optimal policy and state values are found.\n",
        "    </p>\n",
        "</div>\n",
        "\n",
        "<br>"
      ]
    },
    {
      "cell_type": "code",
      "source": [
        "# @title Setup code (not important) - Run this cell by pressing \"Shift + Enter\"\n",
        "\n",
        "\n",
        "\n",
        "!pip install -qq gym==0.23.0\n",
        "\n",
        "\n",
        "from typing import Tuple, Dict, Optional, Iterable, Callable\n",
        "\n",
        "import numpy as np\n",
        "import seaborn as sns\n",
        "import matplotlib\n",
        "from matplotlib import animation\n",
        "\n",
        "from IPython.display import HTML\n",
        "\n",
        "import gym\n",
        "from gym import spaces\n",
        "from gym.error import DependencyNotInstalled\n",
        "\n",
        "import pygame\n",
        "from pygame import gfxdraw\n",
        "\n",
        "\n",
        "class Maze(gym.Env):\n",
        "\n",
        "    def __init__(self, exploring_starts: bool = False,\n",
        "                 shaped_rewards: bool = False, size: int = 5) -> None:\n",
        "        super().__init__()\n",
        "        self.exploring_starts = exploring_starts\n",
        "        self.shaped_rewards = shaped_rewards\n",
        "        self.state = (size - 1, size - 1)\n",
        "        self.goal = (size - 1, size - 1)\n",
        "        self.maze = self._create_maze(size=size)\n",
        "        self.distances = self._compute_distances(self.goal, self.maze)\n",
        "        self.action_space = spaces.Discrete(n=4)\n",
        "        self.action_space.action_meanings = {0: 'UP', 1: 'RIGHT', 2: 'DOWN', 3: \"LEFT\"}\n",
        "        self.observation_space = spaces.MultiDiscrete([size, size])\n",
        "\n",
        "        self.screen = None\n",
        "        self.agent_transform = None\n",
        "\n",
        "    def step(self, action: int) -> Tuple[Tuple[int, int], float, bool, Dict]:\n",
        "        reward = self.compute_reward(self.state, action)\n",
        "        self.state = self._get_next_state(self.state, action)\n",
        "        done = self.state == self.goal\n",
        "        info = {}\n",
        "        return self.state, reward, done, info\n",
        "\n",
        "    def reset(self) -> Tuple[int, int]:\n",
        "        if self.exploring_starts:\n",
        "            while self.state == self.goal:\n",
        "                self.state = tuple(self.observation_space.sample())\n",
        "        else:\n",
        "            self.state = (0, 0)\n",
        "        return self.state\n",
        "\n",
        "    def render(self, mode: str = 'human') -> Optional[np.ndarray]:\n",
        "        assert mode in ['human', 'rgb_array']\n",
        "\n",
        "        screen_size = 600\n",
        "        scale = screen_size / 5\n",
        "\n",
        "        if self.screen is None:\n",
        "            pygame.init()\n",
        "            self.screen = pygame.Surface((screen_size, screen_size))\n",
        "\n",
        "        surf = pygame.Surface((screen_size, screen_size))\n",
        "        surf.fill((22, 36, 71))\n",
        "\n",
        "\n",
        "        for row in range(5):\n",
        "            for col in range(5):\n",
        "\n",
        "                state = (row, col)\n",
        "                for next_state in [(row + 1, col), (row - 1, col), (row, col + 1), (row, col - 1)]:\n",
        "                    if next_state not in self.maze[state]:\n",
        "\n",
        "                        # Add the geometry of the edges and walls (i.e. the boundaries between\n",
        "                        # adjacent squares that are not connected).\n",
        "                        row_diff, col_diff = np.subtract(next_state, state)\n",
        "                        left = (col + (col_diff > 0)) * scale - 2 * (col_diff != 0)\n",
        "                        right = ((col + 1) - (col_diff < 0)) * scale + 2 * (col_diff != 0)\n",
        "                        top = (5 - (row + (row_diff > 0))) * scale - 2 * (row_diff != 0)\n",
        "                        bottom = (5 - ((row + 1) - (row_diff < 0))) * scale + 2 * (row_diff != 0)\n",
        "\n",
        "                        gfxdraw.filled_polygon(surf, [(left, bottom), (left, top), (right, top), (right, bottom)], (255, 255, 255))\n",
        "\n",
        "        # Add the geometry of the goal square to the viewer.\n",
        "        left, right, top, bottom = scale * 4 + 10, scale * 5 - 10, scale - 10, 10\n",
        "        gfxdraw.filled_polygon(surf, [(left, bottom), (left, top), (right, top), (right, bottom)], (40, 199, 172))\n",
        "\n",
        "        # Add the geometry of the agent to the viewer.\n",
        "        agent_row = int(screen_size - scale * (self.state[0] + .5))\n",
        "        agent_col = int(scale * (self.state[1] + .5))\n",
        "        gfxdraw.filled_circle(surf, agent_col, agent_row, int(scale * .6 / 2), (228, 63, 90))\n",
        "\n",
        "        surf = pygame.transform.flip(surf, False, True)\n",
        "        self.screen.blit(surf, (0, 0))\n",
        "\n",
        "        return np.transpose(\n",
        "                np.array(pygame.surfarray.pixels3d(self.screen)), axes=(1, 0, 2)\n",
        "            )\n",
        "\n",
        "    def close(self) -> None:\n",
        "        if self.screen is not None:\n",
        "            pygame.display.quit()\n",
        "            pygame.quit()\n",
        "            self.screen = None\n",
        "\n",
        "    def compute_reward(self, state: Tuple[int, int], action: int) -> float:\n",
        "        next_state = self._get_next_state(state, action)\n",
        "        if self.shaped_rewards:\n",
        "            return - (self.distances[next_state] / self.distances.max())\n",
        "        return - float(state != self.goal)\n",
        "\n",
        "    def simulate_step(self, state: Tuple[int, int], action: int):\n",
        "        reward = self.compute_reward(state, action)\n",
        "        next_state = self._get_next_state(state, action)\n",
        "        done = next_state == self.goal\n",
        "        info = {}\n",
        "        return next_state, reward, done, info\n",
        "\n",
        "    def _get_next_state(self, state: Tuple[int, int], action: int) -> Tuple[int, int]:\n",
        "        if action == 0:\n",
        "            next_state = (state[0] - 1, state[1])\n",
        "        elif action == 1:\n",
        "            next_state = (state[0], state[1] + 1)\n",
        "        elif action == 2:\n",
        "            next_state = (state[0] + 1, state[1])\n",
        "        elif action == 3:\n",
        "            next_state = (state[0], state[1] - 1)\n",
        "        else:\n",
        "            raise ValueError(\"Action value not supported:\", action)\n",
        "        if next_state in self.maze[state]:\n",
        "            return next_state\n",
        "        return state\n",
        "\n",
        "    @staticmethod\n",
        "    def _create_maze(size: int) -> Dict[Tuple[int, int], Iterable[Tuple[int, int]]]:\n",
        "        maze = {(row, col): [(row - 1, col), (row + 1, col), (row, col - 1), (row, col + 1)]\n",
        "                for row in range(size) for col in range(size)}\n",
        "\n",
        "        left_edges = [[(row, 0), (row, -1)] for row in range(size)]\n",
        "        right_edges = [[(row, size - 1), (row, size)] for row in range(size)]\n",
        "        upper_edges = [[(0, col), (-1, col)] for col in range(size)]\n",
        "        lower_edges = [[(size - 1, col), (size, col)] for col in range(size)]\n",
        "        walls = [\n",
        "            [(1, 0), (1, 1)], [(2, 0), (2, 1)], [(3, 0), (3, 1)],\n",
        "            [(1, 1), (1, 2)], [(2, 1), (2, 2)], [(3, 1), (3, 2)],\n",
        "            [(3, 1), (4, 1)], [(0, 2), (1, 2)], [(1, 2), (1, 3)],\n",
        "            [(2, 2), (3, 2)], [(2, 3), (3, 3)], [(2, 4), (3, 4)],\n",
        "            [(4, 2), (4, 3)], [(1, 3), (1, 4)], [(2, 3), (2, 4)],\n",
        "        ]\n",
        "\n",
        "        obstacles = upper_edges + lower_edges + left_edges + right_edges + walls\n",
        "\n",
        "        for src, dst in obstacles:\n",
        "            maze[src].remove(dst)\n",
        "\n",
        "            if dst in maze:\n",
        "                maze[dst].remove(src)\n",
        "\n",
        "        return maze\n",
        "\n",
        "    @staticmethod\n",
        "    def _compute_distances(goal: Tuple[int, int],\n",
        "                           maze: Dict[Tuple[int, int], Iterable[Tuple[int, int]]]) -> np.ndarray:\n",
        "        distances = np.full((5, 5), np.inf)\n",
        "        visited = set()\n",
        "        distances[goal] = 0.\n",
        "\n",
        "        while visited != set(maze):\n",
        "            sorted_dst = [(v // 5, v % 5) for v in distances.argsort(axis=None)]\n",
        "            closest = next(x for x in sorted_dst if x not in visited)\n",
        "            visited.add(closest)\n",
        "\n",
        "            for neighbour in maze[closest]:\n",
        "                distances[neighbour] = min(distances[neighbour], distances[closest] + 1)\n",
        "        return distances\n",
        "\n",
        "\n",
        "def plot_policy(probs_or_qvals, frame, action_meanings=None):\n",
        "    if action_meanings is None:\n",
        "        action_meanings = {0: 'U', 1: 'R', 2: 'D', 3: 'L'}\n",
        "    fig, axes = plt.subplots(1, 2, figsize=(8, 4))\n",
        "    max_prob_actions = probs_or_qvals.argmax(axis=-1)\n",
        "    probs_copy = max_prob_actions.copy().astype(object)\n",
        "    for key in action_meanings:\n",
        "        probs_copy[probs_copy == key] = action_meanings[key]\n",
        "    sns.heatmap(max_prob_actions, annot=probs_copy, fmt='', cbar=False, cmap='coolwarm',\n",
        "                annot_kws={'weight': 'bold', 'size': 12}, linewidths=2, ax=axes[0])\n",
        "    axes[1].imshow(frame)\n",
        "    axes[0].axis('off')\n",
        "    axes[1].axis('off')\n",
        "    plt.suptitle(\"Policy\", size=18)\n",
        "    plt.tight_layout()\n",
        "\n",
        "\n",
        "def plot_values(state_values, frame):\n",
        "    f, axes = plt.subplots(1, 2, figsize=(10, 4))\n",
        "    sns.heatmap(state_values, annot=True, fmt=\".2f\", cmap='coolwarm',\n",
        "                annot_kws={'weight': 'bold', 'size': 12}, linewidths=2, ax=axes[0])\n",
        "    axes[1].imshow(frame)\n",
        "    axes[0].axis('off')\n",
        "    axes[1].axis('off')\n",
        "    plt.tight_layout()\n",
        "\n",
        "\n",
        "def display_video(frames):\n",
        "    # Copied from: https://colab.research.google.com/github/deepmind/dm_control/blob/master/tutorial.ipynb\n",
        "    orig_backend = matplotlib.get_backend()\n",
        "    matplotlib.use('Agg')\n",
        "    fig, ax = plt.subplots(1, 1, figsize=(5, 5))\n",
        "    matplotlib.use(orig_backend)\n",
        "    ax.set_axis_off()\n",
        "    ax.set_aspect('equal')\n",
        "    ax.set_position([0, 0, 1, 1])\n",
        "    im = ax.imshow(frames[0])\n",
        "    def update(frame):\n",
        "        im.set_data(frame)\n",
        "        return [im]\n",
        "    anim = animation.FuncAnimation(fig=fig, func=update, frames=frames,\n",
        "                                    interval=50, blit=True, repeat=False)\n",
        "    return HTML(anim.to_html5_video())\n",
        "\n",
        "\n",
        "def test_agent(environment, policy, episodes=10):\n",
        "    frames = []\n",
        "    for episode in range(episodes):\n",
        "        state = env.reset()\n",
        "        done = False\n",
        "        frames.append(env.render(mode=\"rgb_array\"))\n",
        "\n",
        "        while not done:\n",
        "            p = policy(state)\n",
        "            if isinstance(p, np.ndarray):\n",
        "                action = np.random.choice(4, p=p)\n",
        "            else:\n",
        "                action = p\n",
        "            next_state, reward, done, extra_info = env.step(action)\n",
        "            img = env.render(mode=\"rgb_array\")\n",
        "            frames.append(img)\n",
        "            state = next_state\n",
        "\n",
        "    return display_video(frames)\n",
        "\n"
      ],
      "metadata": {
        "cellView": "form",
        "id": "dnULhrB06fg1",
        "outputId": "448caf0e-46b6-46fc-cc7a-123c58eb5895",
        "colab": {
          "base_uri": "https://localhost:8080/"
        }
      },
      "execution_count": 1,
      "outputs": [
        {
          "output_type": "stream",
          "name": "stdout",
          "text": [
            "\u001b[?25l     \u001b[90m━━━━━━━━━━━━━━━━━━━━━━━━━━━━━━━━━━━━━━━━\u001b[0m \u001b[32m0.0/624.4 kB\u001b[0m \u001b[31m?\u001b[0m eta \u001b[36m-:--:--\u001b[0m\r\u001b[2K     \u001b[91m━━━━━━━━━━━━━━━━━━━━━━━━━━\u001b[0m\u001b[91m╸\u001b[0m\u001b[90m━━━━━━━━━━━━━\u001b[0m \u001b[32m419.8/624.4 kB\u001b[0m \u001b[31m12.6 MB/s\u001b[0m eta \u001b[36m0:00:01\u001b[0m\r\u001b[2K     \u001b[90m━━━━━━━━━━━━━━━━━━━━━━━━━━━━━━━━━━━━━━━━\u001b[0m \u001b[32m624.4/624.4 kB\u001b[0m \u001b[31m9.5 MB/s\u001b[0m eta \u001b[36m0:00:00\u001b[0m\n",
            "\u001b[?25h  Installing build dependencies ... \u001b[?25l\u001b[?25hdone\n",
            "  Getting requirements to build wheel ... \u001b[?25l\u001b[?25hdone\n",
            "  Preparing metadata (pyproject.toml) ... \u001b[?25l\u001b[?25hdone\n",
            "  Building wheel for gym (pyproject.toml) ... \u001b[?25l\u001b[?25hdone\n"
          ]
        }
      ]
    },
    {
      "cell_type": "markdown",
      "metadata": {
        "id": "j-pns0SL6Vbc"
      },
      "source": [
        "## Import the necessary software libraries:"
      ]
    },
    {
      "cell_type": "code",
      "execution_count": 2,
      "metadata": {
        "id": "MiP1siGs6Vbc"
      },
      "outputs": [],
      "source": [
        "import numpy as np\n",
        "import matplotlib.pyplot as plt"
      ]
    },
    {
      "cell_type": "markdown",
      "metadata": {
        "id": "NM6THrGl6Vbd"
      },
      "source": [
        "## Initialize the environment"
      ]
    },
    {
      "cell_type": "code",
      "execution_count": 3,
      "metadata": {
        "id": "q2ytq7oR6Vbe"
      },
      "outputs": [],
      "source": [
        "env = Maze()"
      ]
    },
    {
      "cell_type": "code",
      "execution_count": 4,
      "metadata": {
        "id": "glvnH2SX6Vbe",
        "outputId": "261d06c1-6c86-4dcd-e64e-c63e86b2e703",
        "colab": {
          "base_uri": "https://localhost:8080/",
          "height": 423
        }
      },
      "outputs": [
        {
          "output_type": "execute_result",
          "data": {
            "text/plain": [
              "<matplotlib.image.AxesImage at 0x7946ec352610>"
            ]
          },
          "metadata": {},
          "execution_count": 4
        },
        {
          "output_type": "display_data",
          "data": {
            "text/plain": [
              "<Figure size 640x480 with 1 Axes>"
            ],
            "image/png": "[encoded data removed]"
          },
          "metadata": {}
        }
      ],
      "source": [
        "frame = env.render(mode='rgb_array')\n",
        "plt.axis('off')\n",
        "plt.imshow(frame)"
      ]
    },
    {
      "cell_type": "code",
      "execution_count": 5,
      "metadata": {
        "id": "YrpWHqxu6Vbe",
        "outputId": "18b1dd1f-51fe-4d37-cf5f-612c68bdc394",
        "colab": {
          "base_uri": "https://localhost:8080/"
        }
      },
      "outputs": [
        {
          "output_type": "stream",
          "name": "stdout",
          "text": [
            "Observation space shape: [5 5]\n",
            "Number of actions: 4\n"
          ]
        }
      ],
      "source": [
        "print(f\"Observation space shape: {env.observation_space.nvec}\")\n",
        "print(f\"Number of actions: {env.action_space.n}\")"
      ]
    },
    {
      "cell_type": "markdown",
      "metadata": {
        "id": "Rx947Ii46Vbf"
      },
      "source": [
        "## Define the policy $\\pi(\\cdot|s)$"
      ]
    },
    {
      "cell_type": "markdown",
      "metadata": {
        "id": "mj-DEzgD6Vbf"
      },
      "source": [
        "#### Create the policy $\\pi(\\cdot|s)$"
      ]
    },
    {
      "cell_type": "code",
      "execution_count": 6,
      "metadata": {
        "id": "kivjfd-t6Vbf"
      },
      "outputs": [],
      "source": [
        "policy_probs = np.full((5, 5, 4), 0.25)"
      ]
    },
    {
      "cell_type": "code",
      "execution_count": 7,
      "metadata": {
        "id": "sunXzggw6Vbf"
      },
      "outputs": [],
      "source": [
        "def policy(state):\n",
        "    return policy_probs[state]"
      ]
    },
    {
      "cell_type": "markdown",
      "metadata": {
        "id": "PGrxXujC6Vbg"
      },
      "source": [
        "#### Test the policy with state (0, 0)"
      ]
    },
    {
      "cell_type": "code",
      "execution_count": 8,
      "metadata": {
        "id": "VlXckfZ96Vbg",
        "outputId": "a4ab66d4-ce96-4b2e-902b-270a8fca68d5",
        "colab": {
          "base_uri": "https://localhost:8080/"
        }
      },
      "outputs": [
        {
          "output_type": "stream",
          "name": "stdout",
          "text": [
            "Probability of taking action 0: 0.25\n",
            "Probability of taking action 1: 0.25\n",
            "Probability of taking action 2: 0.25\n",
            "Probability of taking action 3: 0.25\n"
          ]
        }
      ],
      "source": [
        "action_probabilities = policy((0,0))\n",
        "for action, prob in zip(range(4), action_probabilities):\n",
        "    print(f\"Probability of taking action {action}: {prob}\")"
      ]
    },
    {
      "cell_type": "markdown",
      "metadata": {
        "id": "THcQNGHa6Vbg"
      },
      "source": [
        "#### See how the random policy does in the maze"
      ]
    },
    {
      "cell_type": "code",
      "execution_count": 9,
      "metadata": {
        "id": "gsSYs5Ry6Vbg",
        "outputId": "6844ec31-3589-4b69-c262-44c9d7101772",
        "colab": {
          "base_uri": "https://localhost:8080/",
          "height": 522
        }
      },
      "outputs": [
        {
          "output_type": "execute_result",
          "data": {
            "text/plain": [
              "<IPython.core.display.HTML object>"
            ],
            "text/html": [
              "<video width=\"500\" height=\"500\" controls autoplay>\n",
              "  <source type=\"video/mp4\" src=\"data:video/mp4;base64,AAAAIGZ0eXBNNFYgAAACAE00ViBpc29taXNvMmF2YzEAAAAIZnJlZQAAldNtZGF0AAACrgYF//+q\n",
              "3EXpvebZSLeWLNgg2SPu73gyNjQgLSBjb3JlIDE2MyByMzA2MCA1ZGI2YWE2IC0gSC4yNjQvTVBF\n",
              "Ry00IEFWQyBjb2RlYyAtIENvcHlsZWZ0IDIwMDMtMjAyMSAtIGh0dHA6Ly93d3cudmlkZW9sYW4u\n",
              "b3JnL3gyNjQuaHRtbCAtIG9wdGlvbnM6IGNhYmFjPTEgcmVmPTMgZGVibG9jaz0xOjA6MCBhbmFs\n",
              "eXNlPTB4MzoweDExMyBtZT1oZXggc3VibWU9NyBwc3k9MSBwc3lfcmQ9MS4wMDowLjAwIG1peGVk\n",
              "X3JlZj0xIG1lX3JhbmdlPTE2IGNocm9tYV9tZT0xIHRyZWxsaXM9MSA4eDhkY3Q9MSBjcW09MCBk\n",
              "ZWFkem9uZT0yMSwxMSBmYXN0X3Bza2lwPTEgY2hyb21hX3FwX29mZnNldD0tMiB0aHJlYWRzPTMg\n",
              "bG9va2FoZWFkX3RocmVhZHM9MSBzbGljZWRfdGhyZWFkcz0wIG5yPTAgZGVjaW1hdGU9MSBpbnRl\n",
              "cmxhY2VkPTAgYmx1cmF5X2NvbXBhdD0wIGNvbnN0cmFpbmVkX2ludHJhPTAgYmZyYW1lcz0zIGJf\n",
              "cHlyYW1pZD0yIGJfYWRhcHQ9MSBiX2JpYXM9MCBkaXJlY3Q9MSB3ZWlnaHRiPTEgb3Blbl9nb3A9\n",
              "MCB3ZWlnaHRwPTIga2V5aW50PTI1MCBrZXlpbnRfbWluPTIwIHNjZW5lY3V0PTQwIGludHJhX3Jl\n",
              "ZnJlc2g9MCByY19sb29rYWhlYWQ9NDAgcmM9Y3JmIG1idHJlZT0xIGNyZj0yMy4wIHFjb21wPTAu\n",
              "NjAgcXBtaW49MCBxcG1heD02OSBxcHN0ZXA9NCBpcF9yYXRpbz0xLjQwIGFxPTE6MS4wMACAAAAF\n",
              "fWWIhACf2WdBBMcSgR79PWMxFJhtRQC+1MOxfqRffl+BIGYSpbn04L89reMR6l2wAAADAAADAECn\n",
              "OiagH/jHhnJs3HXkrrQfF5oa8HLd82/vrqnbi9FGfNPCK3X7oO0oFl8AIHdgl6NCUsYmC7sGxWDR\n",
              "v8QDFunqO1KO/h4hnbgcXmGt3SAdqYvFiU+mvUY+VGbnRkuG41lTNkHgXhKXs3ncN2NPzWwrMLYK\n",
              "iwGs1d09joi/F1DlNoWF4YqpaMi8QyvI/nxe+3oOSPgZ15gbZdnVITxZGE7yEFjufOg82fnDQABp\n",
              "ekrjp+9BcNJsmHj+Wo4Z6uFRtLxox8XN0df5rF+bQsC6jSZSmp4iLP4GInkKkx+qye8xp+WbUsGY\n",
              "Vd2twG1uY/yLG0znBcCNkivVm8Uriwpj/2p7WUg0KcxDffgkELP056iMbAAAAwJFXtxcxzMff1iJ\n",
              "SuMwkvcRi5BQMbU/3NQHVPQgKb6LTW834w6c32gTtR4+rE7aryR2dHvHzlUTjfkqhoNMqWEtvF34\n",
              "g5PgAAm2WU6pUhvHqecOwlhE96QKcRf/oUSHxG8yTUJO1FGTdfkF9NebIRNeDVZhbRKi5J1eB8Fx\n",
              "JHGUYtIUblsE+5NmQ4SF7AfEq6Domen54MsmD35LjbJMNHouC0sMP7JpG10sVnzk1SoBdmMwkNQo\n",
              "IXYAdivZlPiDEvsSSEP41d2aHg2oAYsxuAK8AAT3ydwEhRzvNImKsZR+1XzgenEHJ+KOT4nPtVzI\n",
              "391j+M+wcrtxgEB8CEtos5O3Br5BD1oQDVUT+8POlrEB/gMcZUdKur3m3JIzIQuYeoj/hd/tx8pQ\n",
              "Bfbn/4iCot2BdlG3l9NPBLgwz+2LYWYrnKIHTGdUC6aytb03cjMADBHzFz/x1rnqdUk+zmboWwcL\n",
              "ZlGm/6/4iaQFlq2SHpH0sHZu6dVodr271ANDCXDv6s3VEIamS7ptAhkztiX7/sWpN+8I0cKOrY6j\n",
              "4E1svER9ePhyQVYEtwcmsenPuIzYHhRHbYd2fnmc8vFXkHwIA2GOQxnongR3gpdGfzFLXWFd3zWZ\n",
              "GoZzv8chGBEuFW3nhDYYBdYWOpXTlHy2ojKg4Gylwqu1izX070+UciOk/wmCuKyNZ8nviLZYyy5l\n",
              "4A+qWrQgQ8TINK8YFhRcQWcvcErlyPvJRp548iFPtxCmrMfPbT6Uhvez6BDHG/EefLtHi0ZSu7rE\n",
              "ZOcurGf8RHYg5zALTra8t6wKK5Sl8gr7qp1BOiQV57jd/9bnGRhzLZPPp19kQnfOCx+GvU7qrFPe\n",
              "Wgno4U1ITbtFAsdbzYcjsV4Pip7EKeR+AIX2+PoPFJiAAARYQO4UWr6gCXakHAZoCBj7o/t+GZIv\n",
              "r62r/sKpAqvQ+GZ6E8x32Nlcwfle3J3A230lZkBEDKVvFpr2DC2XhkW3YP7ONTOmqwkxyb0SK+Ew\n",
              "5p3u3R+eihuLOKOI6xJLpxG4ecxuoaVMaVxEJAu4cS7DaXsnXeGKPnWVosrBXSwovT3omwiNkAkH\n",
              "WJ+vjrC7diPB2mwo7d5r1FnTBNoPuDdnoqB0sdgriX3NZpPouTgHvTLP92Q3Tz5kx+1Ll6+fck0D\n",
              "1RUGAVoeEMMtTKRF0Y/tbRAsHemhpjYucbFblFv+uUmJuCJOexwYZVBjOP2sOSOB8Z+EzLIFO64G\n",
              "TFnUm0APeyq2562ICFJ51fGc6I9419WCYY1T0vhxREhUnSdBvh76t4Lv/9iB+uv+1cUDaIzjnPh9\n",
              "Ska/6abkhi2maT1Ykjl3ikAB8taVfFJoAtcZBLN3VnSMgEut/PIIFhow8Kzq0dUPGd8s5pJ9ZTEa\n",
              "whSQfNQglAu+k2hCLRkBTPdXC51+k39Z4cta1m6BQ2Pm99meGAEAAAGPQZoibEn/ACIKr8Xe117G\n",
              "z5Zq1VJxgza/eZfYt/3W3p1EGvS0SyglkrMDfn8dUSfiDrx60XRxb3LNMWy8pVSBzgaS3zJlFsJy\n",
              "p0qdbvUh+WPjclXRVbSXzYdupNVqGdsKirT7oGm1OFSsW3Dj4ZcHKrGDwAqhjNJD/gEZw7NKhsTj\n",
              "6afxf1KBx3VQOM67v6GngaPpKFlwOOwOAnn/De3p3Kv/3VV1iHlvIANsU6ifCBRp1Z0ztxDQCU3U\n",
              "AoWG0EZ/jfdpKj6PTInugycvbcLZS+GVA4da+kpzHBXEI9e5ZZvuadRIV/vO7bN23YOwyW0VwaWE\n",
              "yWNevCLzBwAPuNd8j0Kjt8SDQe1gkXAPUnjZGjtHXC7NHSMZR/ShoUKsZqCmAQ4Wst/u6YqVzCDJ\n",
              "0HTQOS2KVAbT0MRHQ44smnK/zufWkatJbbaIvNWCCYH3VMRoLybM0/ZJ4GKxV5yJxL4S5TDrjCXi\n",
              "EWSz4w4n6ejgGro5U1VXCkosTzyc0AA+lVYEu2b7lAAAAwACgHwgAH+AAAAAOAGeQXkLf0CNZvrL\n",
              "sD40Z8QZxd5ETC9I5NDZKM/xFgHvXhpD4A+PAAVxvuAAAL7JmrIACFHLAAM/AAABoEGaQzwhkymE\n",
              "nwATngL0Bb3dr9BxUEQauLIz1BHF2xeK23/gIeof1Ngm51kabEZXTHpABNbWZvAZbssvGx+A7uME\n",
              "5/tdMjgWAmVuDBKvC5kM04UbzQmyvQMWBimh/2Kq480NZs2WDPEYXyzPZ10ujm8fLZudnr0Lht7J\n",
              "3U6oUDnKLAEOf+vu2pKQ3+2BrRfQg5z/3lUmCKpcu+B1xDi9F4jQVk+hHCmue+I7jI/dHN4L0thH\n",
              "UpbaJmdAKsBs+kD+shb9Qd7xTwPqlYY9IQ4e9HHet2ZxWYWFV+M58EfGIp0KqtGVjCPuMiQFUDoE\n",
              "R59VBqH4QASyRZZWczmbaYO767xjGpSGph96j1spkbTUmnXCLZ5XRjUXmqT0KjCIC6PboDQi+7X1\n",
              "5A19c9IqmvLONLyN8OqaHCAVglQnATcUrYKu9lQViwlfsgIs/hMUN4D5iasu7FnKrhpIV/qN8xtv\n",
              "nX+tHnOFlYAKul00zRh+haie9Yk+8RoZt7qJp2bOfHhAdDeXqnbQ4C1/N53bFld8yf+7+iOfSuBf\n",
              "yY1paqnAACygAAAAQkGaZEnhDyZTAk8AE59URp4o4peI1uilRK10wP98yEXR+JCABSLTnPM2wVR3\n",
              "addUrjcA5Yoj4B3bGwflTTSr586GpQAAAZJBmoVJ4Q8mUwJPABOf0cuAVG1Wk5U4+RdlASyZtAcB\n",
              "MD7BNtukiKMY5HTFx9D9QPVchb1L0WJtDxXSNmMHDLfOwZYVN6tpRfSFZjqBX6jIO0mp+YWsOFSv\n",
              "+uzhwTROdEAfqtCCdkFsa8LZFagp3cmV1sJDGQO14nL8dOnP6Jz69rGxTaHi9oO07CPknHuW4yAN\n",
              "1ah4RamwhPZh5QHdtAI0peI98jZz+PFCnYLZxpOmqBXgZ69IDeigmZFj11PExoivdBdmnu84Tkop\n",
              "+RL2HwzpgIw62b0q08igAAPuXjjs2QJVNdo3TE12AlfzhSirfl8cFnBvHrQc8kRb0Ri9WLXflARm\n",
              "3/G1wEX/3ADZbvyel1GXFdEAKmRA3yR8J+JvoFPa/0SZsKtJxpg2OXrT8UkmGqonLoFCXQfCbPd2\n",
              "INlko/iY0clCBSFFOzNYLxjZycFP8pQ00DRW+iOhQp9vd53ZHr5GoouvUOnUmsy0H7ncj4ZLFyjy\n",
              "8tw2cL8BYHzQx3K7uHRV834IbPrV3nIAAAMATcEAAAGLQZqmSeEPJlMCTwANrDT9NFdAMdXvJvoF\n",
              "JwOXznI9C5r0v5rXU4B1Lc2ddY0dzvHg2CasUu4SoiqA0zDjskZkr6Q/egSYuCbfagS0aGQ0n2Br\n",
              "F2VZG4/2zeiAvM2lsCWo4OPLyIvGKce5/8ls65B2vM5mgdF3IlLQXK3nteNPAUZUWT1gkpSaD7rQ\n",
              "Hv6plp2japV+wnph9+PgePyfLXF17kma5lYQzRAk9j1cN5vIALhnJ0pvpv6vHSB8cm506RvJAUxc\n",
              "MhEtjLI2K7GvlJ8DcO5/38VPkgCibkuTyYY4Zv8v/qUiBKClXRUjk/GJDbIuhNLMTJXQ8EbJ9R5O\n",
              "qFrt+5qfKb/iImV4AEtQttEbuZzHguoKTu2a5+VUCirV7i/I116Xnw0/ZFVJRO56MdokQRUBCGp1\n",
              "hf2oUn23Bf4qVny9atKqaji0Ln6AqdNDTD0gY8yUDwQUy8uuUmZPFzQJ7u1haY08c8Zlrlw7Z2GD\n",
              "4PAa65uGQB+3aV/ocR98k46xH8E6Gc6wAAADA6sAAAGHQZrHSeEPJlMCTwAK+uC9NGNjFwWZ8WNl\n",
              "0BHy+nRVOso9jheVAxZ8qQJ9f0WR6ZvGHR4r/yw/EHy2IuPu/840Rf53ig9sw8fVEei+wKFaJvQ9\n",
              "rMt2KEdHusBi7gkQJR6Q14b3mnG3N0a5tRS4R5Daocyp501yVoY4/fBXbRvwhYPC3YcuOSP0U6TU\n",
              "ZoxHrv1XXXy3OWnyfFC1Uh6w1PFs4buB+m0Sop+ogM3n/SYv/8TW+BkTErl/VAgBDOslGcWTre63\n",
              "RaIe3KOxkBVLzgssnAAGtDKp+k5EgFaBZq9d3HoEBXUzCUTZ7k3Fbm4VsU3MrYuWOCDBsMU56tLN\n",
              "L65SF7fgJ7qy5vu3FM+V4qAAp796P3jSM5Au7HoTF2Eqq0JPELzxVq8tlDUtoRfkSp5bHlHL+CPU\n",
              "rSXNWOs/EuA2XHhyuD+HmfntB7bJf072YyPA+jLrKx+MaubUsE85QME6N2bvKCgsk6i877jbYbOY\n",
              "jujvamnBGhyOic3HrOEHrGzdEQAAAwAYsQAAADdBmuhJ4Q8mUwJPAAr6BU7xl6B7kLQJGIvdsL6B\n",
              "oB7RDdUMOptY4PNP41/KM6lOJlMGAAADABWwAAABikGbC0nhDyZTAk8ADfcoQhq5aEioCWTNoDgJ\n",
              "gfYJtt0kRRhVny1HZUCbA9VyFvUvRYm0PFdI2YyRWR4X0sAVN6tpurwhWY6gV+oyDvwFAVCzK/I3\n",
              "v1BVnoQfbCQTxj/70nOFEUxTELA6q00R10YdvC3Cf5UwMb/RTdETiSjvXazd6LX50eDzt0C8ZAG6\n",
              "tQ+CdInJoeeT0FeF2ph28Zv1Vrn+d/FOwWzajpHo5AeU+2BA2wzceT45sfAnJZ0Pt3nCclExfcQz\n",
              "JGSMbSAtA4zcITC6NAV58b0e9lq2KDjdMTo3L+vZAcM+4VBKC/RTFYg8HgB3HFa3kOUBFAsmbXuF\n",
              "PhxYDfsTPvtcRkVhHzDCjIYc90Lu1TclFjmsZjdJbvg64np8pu4g/uS+tKUFBnWvuCqpm0Zq6G9z\n",
              "cbInQS9jORjPOhHCSq37YwVPylljHVHqO64hiZEnelLwMFQKtn2V2V1fSLNU3T7X98ZY/OJ9Rnpo\n",
              "ZRr4LG2nsf3JK+cBk16KeI7Ihe4wAAADA6oAAAA2QZ8pRRE8Kf8ta/RPud/CPb6gIEov0mC7Mo3I\n",
              "/k+sp5xqNEi8nn+zd05oQ/dfLBVQAAADAARdAAAAIwGfSmpC3y+eexbbVBpQSdtGsen4+SqCNC4q\n",
              "fMeLAAADAAEDAAAAN0GbTUmoQWiZTBTyfwANr2y18jKrS83IrWoW8eNX9uNO6JKu6Sx2h8zNMiy0\n",
              "GKaZDBcYAAADAdUAAAAkAZ9sakLfL7n7AETANBAOp2dFPFUwV2U8jpxf1qbwAAADAAYFAAABgkGb\n",
              "bknhClJlMCT/AAr7VHFooL5Arb4XwVCFXYXL6dFU6yj2OF5UDFnypAn1/KYNQL/qLEFf+WH4g+Wx\n",
              "Fx93/nGiL/O8UHtmHj6oj0X16aCTjv0KpQ2KEdHusBgo6YTkB7+zphb7T9O40kVRS4R5Xbna2haT\n",
              "ePRiQmJkF8545GEMT0s97CYK3AJt3RiPXlOk95axkrvExmzjmX7a89YB5u4H6bRKfsKvoS3anpdo\n",
              "A9p7YBQ6+PRVvuufnW5zOS/3trnc60vNgYtSAqmCJ0TQAEi8E9vSciQCtAs1eu7j2vo14gDLZyC3\n",
              "2tLnYVsU3MrYuWOCDBsMVKj5EiWJD1j2/AT3VlzfduKaDOgQDaynujokRnIF3Y9CYuwlhmyaVlzp\n",
              "S3z8pdqquHBfIlNe2PKOX8EepWkudyrojBeBsuISsCzszSBGLvDyz/ToZjI8D6MusrH4xABdBX2G\n",
              "OdwTo3Zu8oKCyTqLzvuNttx8FYraV6I+utxm91pXlqcIBY7sgAAAAwO7AAAAMkGbj0nhDomUwJP/\n",
              "AAr64L00HDHakM4ZADldUTDXG0gwF1F1z1pABM5RvWggwAAAAwK3AAABjUGbsEnhDyZTAk8ADfco\n",
              "Qhq5aEioCWTNoDgJgfYJtt0kRRhVnyjH75fqB6rkLepeixNoeK6RsxkisjwvpYAqb1bShfCFZjqB\n",
              "X6jIO/AUBULMr8je/UFWehB9sJB6feY8Vs4URTFMQsDqrTRHXRh28LcJ/lTAxv9FN0ROI5ivKIVh\n",
              "rDOdWZOdugXjIA3VqHwbJTm7Nzyegrwu1MO3jN+tDpOhHS0dgtm1xTS4Kd9Xh0N7xPXj1Ftm+e5f\n",
              "fGeArNjBvcJyUTHyxK6UZIxtIC0DjNwhNZZBwMxLywu9lq2KDjdMTeRP+vZAcM+4U/+Z4N6j+o6A\n",
              "Qtjz02PdrvygIzb/ja4CMQzE76NJvS+1xGROAEVQoqtG6AfE2cL5zepxyWnmN0lu+Drienym7iDk\n",
              "B9DeCzvQdyPd2INlko/iYp3OTAJexnIxnnQjhKAbRFRkxbgZhChnChT7e7zuyPa6DoKWPNXuN2+k\n",
              "Wapun2v7YTyn3luGzhfgLCHWmtrOx/ckr5wGTXongBIUtcYAAAMAdUAAAABCQZvRSeEPJlMCTwAN\n",
              "rDT9NAsgCnNRPnUuxiWZethNHCSnGEnaC4tDgoRS6wCAQMe9QEc5CczA09snm1JbyWHQAD/AAAAB\n",
              "fUGb9UnhDyZTAk8ACvrgvTBk5q8PhbRW9nwjT6Mc2oUCnUP4sZnhfrCQQJe/IbGy6EsgXkd3AVv2\n",
              "w2rZWJVqsdcnxgDra81XMstyyY6GRj1Ns6ustUT+r+OEFH9xBwGah3RaHmxBpHcK8MFHH439Bdpb\n",
              "p4AAZ0bsdWuB6v7KL2SnKVLsdmmd7L4e5hVqp6IAmUJ6RbuES//SVYgvmdv5GVpIQ/kki9jT8hMm\n",
              "IW4XfyQUfrKfHiUsQ7d3Ks3/2fmJpmyA/lvKO6AoePP9KyBUvjoT+jM3HMxBf5wiRVCdT0vJRrGR\n",
              "SMRwgDhn2vSzYeBxmGFIYTUDmG7+e94x6wtKlHiB2laLmx4fG14rjUY1V7gOao/Dw27uXbSLrRpW\n",
              "QAOI8GWpa7w8iKKphZZiWlBAJyPTaWtuWVFGeKWPELttGZfs7HKizI5FbaribEaoHXncG1Y/+D19\n",
              "XlKbznbyHyYj55sEfaD9h5vLkT/AUMmuF57KFZ2y97onhmDk8gCHgQAAAD9BnhNFETwl/yMgAmgK\n",
              "az0lqSZhPDucxkUDY09okGg4F+5kIBECb9LLiuzHp4LfmGRFnLofiez5/9DOmAAAMCAAAAAfAZ4y\n",
              "dELfJyABJvpFLVWgRLHG6wINRoLBaDq3IAABIwAAABoBnjRqQt8DuTD224bDw2cEWIMVaQrmAAAU\n",
              "UQAAAaFBmjZJqEFomUwJPwAAd//LgOoDMQtTfDYDylQRjBTNM3o1GaP0nyX2vrV/9qrW8yqjwLk+\n",
              "g49Yg/l/SURqlzAdJiBBiIN4yedVUHz4yEmEbRg5ULM0+rjlxEZRZEgfL53KtFA3ugjbMetcm+2b\n",
              "Gfzr2vJ0qapTWGZMx3U/TUUQNtk2p+lcoUGgJzQcwKZeLE87SqLBJbWMRnmdDnU0HdTanTK8OEWV\n",
              "mRGXg/az55NyQMWZmcDeMlRwvjriBfdoOC7VLPN6R1It5YfCvRpKQC8jLpthwtW46jIeLbZLp6SN\n",
              "TEyrF7AbLbdBbFVA36niXhG5BmyX+GmuNkvSsam8CI4iQGM+xBoB2p5JkXfnCvGeNHe7wPGv0c70\n",
              "67UWk9wcjClXJeSo8svOZo41LSajEHbwhW6mekYFqIziPirZS+hmeCE/wYZakCtXCLvfFvoaMKRj\n",
              "V1XBFHOaksmP5cs/u9IJ4sZQgAzW0rmcw4vX9Qu+gZnHp8dYmt+/prtTCDgKId9YXf1a9hhr+M18\n",
              "L/e8awvLqxakE4vFgka0oxKzuseAEnAAAAGsQZpaSeEKUmUwJP8AAHf/y3txpO7VihY1PnfPBn7d\n",
              "X3znKnSlsNnRt6UO8zfMxGMCHgxxkr24f1YDD+HZXVIza0heGjLY3vJj85VRxkvftcDbRgPY58En\n",
              "n36cU4ANbb/++UMc6YEF172tgjEx27sYAo3P3VUx9WRrCb2uOi/Lv4d1N3j5uEz7azgN2D2TA3Zx\n",
              "GpF7DtymdCAYAyl8FGBA938xKTOyON0ncahY3K2IkmHTCAn37oRn/GwEhwmjFECJUPOBCKl6/XV6\n",
              "aiswRgAJhe3P0FwwHJsRJk2WOkZ2C9f9zKEuetzeOdQq6lbRf+oQcBVows36gXL+jaocDPU4OzmL\n",
              "2MAtb65gDBngdjvG+CJTw0wpNV7Xbi2BV45vprYqQr713Y9CYvJME6g6g32LiMN3Zwb2nJtDDfQ7\n",
              "yQPLsg3ggKY+amImB2BG8U06aIOcCtQclSfCBzjFnPdT/15iQwWWF23CV1N+jlIKjkHxGlMaBwhV\n",
              "IXB8xzKYWhj1UbN+UP/9yk/yH8tfTEK9UK80H+Yy2VU6mJxk1wvDRZzp/q8kmq8CfAAZlubAASMA\n",
              "AABEQZ54RTRMJf8DYh/2lUD6YWGkkUZBJ9blFuBpeb2CW/Rq3yCBKLio3zv7vqnrL3LCSqI++tv0\n",
              "lk0qs9onF53aQegAAuMAAAAnAZ6XdELfA6jaOsAcMYB4BSzgHpvKUC6r2KcKewMZofoFzYsIABgQ\n",
              "AAAAIQGemWpC3wOxzHK2ABHAXvYIoVkOjcyki3hY+PABAAB3QQAAAEJBmptJqEFomUwJPwAAd//L\n",
              "ek5MBmIWp8QsbTe+PpIYJDgt85JG7OvZiYywhfLV/yNRBWy2aUYiMVJG/MYuDJjAAsoAAAA4QZq8\n",
              "SeEKUmUwJP8AAHf/y3pOPmysWCMH+sewGwK1HKaFVOWaOb/CFAnxkK+XJfawnRVAhqgAFnEAAAHb\n",
              "QZrASeEOiZTAk/8AAHf/y4HqCDh+G3cTH/WuQKpS3nrxxcXEEGRLE8rPN8ahIqX2/hIJ9mwohE/m\n",
              "kXcs6mUmokCV66zny8JmkWsgL+1IlIW2QI58HVDshWus3Zjdpe29seN90kDaBzm/fl+f4+sUEayv\n",
              "+FLTEH6fGJowThSnEPmDhzMBSBxv6jKJpOfoZFWXUTiC//oRtzqlsa80PFzRhvCgM+HJ5aPNRkG0\n",
              "FSA9OwpwG3nhuERx0VYs7BTaWLV1y4z1ZcS7crBFygRhkug/Bo5zwMe6o0cO+dFdSupO1qDVBp1J\n",
              "plh1HHc88oHYehPixYAr5QC7zaNv3kzsJEcwEhFORkkX/cH5AB24/YAdMY6fMzelEIpNgcLbqm2u\n",
              "xhrp07wLdwiplw3SkmsQxN5a6+qlvzxiYZOPyX4FK1fKALesWKmVc3aHAItvKRLZpZewt0WCYgy7\n",
              "UL6B35jUDbHzpsWOmSY4G1C6jXg4rwVQnX5d8HPiNvjoebK9IR5lrGr4XZX1XNsSXpZQpmsW7Lib\n",
              "whXjIjIdtpmnd9ry4VbQYaCJ4Cz8e+rGFJIMJ8GtfQcxi9PQ00DfYFkdWdppIvJLqhUCsS6qFh2Z\n",
              "1CgWHWZ3mu00CL4heVbnR4AH3QAAADBBnv5FETwl/wNhLMXpzp4SE7clhZISiAbnTxkfp8sx5pKQ\n",
              "g5uPtTximOatFFMAAj4AAAAjAZ8ddELfA6kFsw3asIWFbag55ihDNzoKFqgE0I7/cBQACrgAAAAY\n",
              "AZ8fakLfA7HgFqsPEoSl9/2vLoAAAGVBAAAAPUGbAkmoQWiZTBTyfwAAd//LgdS7R3+bEfLf6uQd\n",
              "pkr2kV2mvQBE5osbnZCdlBawY53dSmgLWmdi+zr4A9IAAAAoAZ8hakLfA7ZzHO/ZAtZUEp1CrBvL\n",
              "pB+4avrrkJ1pP4dAX89XUAAlYQAAAaJBmyNJ4QpSZTAk/wAAd//Lek5MBmIYCiBzyX2vrmZ2DKt4\n",
              "lJHgXJ9Bx6xB/L+kojVLmA6TECDEQbxk86qoPnxkxNg+4VZj1lrurjlxEZRZEgfL53KtFA8A1Uts\n",
              "irAaG5jTRc0uEcr6BV7Xk6VNUprDMmY7qfpqKIG2ybU/SuUKDQE5oOYFMvFiedpVFglNcgxOswv5\n",
              "clgiDm6vJFHCLKzIjOO/h1pvJuSBizMzgbxkqOF8dcQL7tBwXapZ5vSOp10ZAKgPi4kj6NJSAXkZ\n",
              "dNsOFq3HUZDxbbJdPSRqYmVYvYDZbboLYqoCCn0YUM80yGAM+GmuNkvSsam8CI4iQGM+xBoCNngA\n",
              "99KuygajhXjPGjvd4HjX6Od6ddqLSe4ORhSrkvJUeWShjMLSJ2m7/BMgh8QcjXewTJScR8VbKX0M\n",
              "zwQn+DDLUgVq4FC95RAvr0ZqMauq4Io5zUlkx/Lln6nw1kED0QgANbSuZzDi9f1C76Bmcenx1bgY\n",
              "LnyxL06sn45NN88oISOapO+0MY8kgUkoAQ9LUgnF4sEjWlGJWd6CcAJOAAABykGbR0nhDomUwJP/\n",
              "AAB3/8uA6SCHvJ+jx4M/ba3qAwloVDp3xjZdCWQMiPgd0s6S3vK9nX7MwWyryOe7JPd+cbQdnbkP\n",
              "RSpyiuEbcEpbolX6VDDYX8a0k0PJ9JImHQCjjyYe5Ne+9N4mAaXAkkdEYRTg3rzytVhmGIImJWwt\n",
              "W8WW5ZDprI93wkTF4ZNk/ObokOUWvT6PvaGOYq7Pi9sLF5AjiDbSySNvX4WoBhLoIiH/7X/8oeGs\n",
              "AGX1XDLl4yurGzBN70OEl79XpXYdWHnXBz3WGj4bFt1H47+uL7HJG5+g/RrpLYS33zrNXjWRsc7s\n",
              "KJi4rj/5qF54J2pVStZdR/12bH8mqN94c6oCF0A9KKBWD+7GP3GQSrQ+iUloO96PoWOPTOhfFr7g\n",
              "sRctM4biKVjfzUMOLMM1TdnoExpMA98KQh3xHm2tJXf19MXdn1HLQLhatGpeF6hEqnHgXjc4QmPa\n",
              "KqlwtdcHL4+szoazS3MQrkOhLRBikoGOiM2i/XDIP+LhzoaHIFwh1tsUZw+wZ2GqWGxEtgBcyOK9\n",
              "6ked2los0x9jtcZavzWd/GzbrZf5HxvzMqBd3h80i4zhAQNjLpjqwGuhhmzGbAEnAAAAPEGfZUUR\n",
              "PCX/A2EsxenGOlkk1AweNRQPTtfY+P9JKXytlH3sUfIT8mc651fTaH6yFK909Pbgo64FuAAFlQAA\n",
              "ACYBn4R0Qt8DqNo6wB0TpkAJBfajIwb6rXl+EjfYm5Tcu9OG8AAaMQAAAB0Bn4ZqQt8DscxytgBh\n",
              "BH8xnvoUwRtpBGkSGAAImQAAAEFBm4lJqEFomUwU8n8AAHf/y4DqAyzjeAcms2Djm1CLgLUoLWLc\n",
              "LFKuYSSJXtR2xt1UsEM5HZPEw/HWN6c/wsAScAAAAC0Bn6hqQt8DtnMc7/vygiWErw+TbbxrUM6t\n",
              "iuu8IMPCJGoVVGk88Xsr14AAMWAAAAA6QZuqSeEKUmUwJP8AAHf/y4DXHzsF3FweAcmo8eeSdIz7\n",
              "BCwRrJmRqFrru6BnrFi8TlQFVv2CdJAHzQAAAYlBm8tJ4Q6JlMCT/wALJ4EY6vdsmEquBy+c5HoX\n",
              "Nel/Na6nAOpbmzrrGjud48GwTVil3CVEq/MvcaOyRmSvpD96BJi4Jt9qBLRoZDSfYGsXZVkbj/bo\n",
              "eIC8zaWwJajg48vIi8Ypx7n/yWzrkHa81maB0G+CUtBcree1408BRlRZPWCSoXi68+JjVKv2E9MP\n",
              "vx8Dx+T5a4uvckzXMrCGaIEnserhvL6ahEDaHDkGN/2lDz1V7Zk7SN5ICmLhkIlsZZGxXY18pPgb\n",
              "h3P+/jXlOCtC4Y4Zv8v/qUiBKClXRUjk/GJDbIux58mIVG7j9U+V0bUOip+58AcfKb/iImX3HN1b\n",
              "NvuVfrvF7fU55+VUCirV7i/I116Xnw0/ePhGjQ6ejHaJEEVAQhqdYX9qFJ9twX+KlZ8vWrSqmox8\n",
              "PC/lVfORr4HSBjzJQPBBTLy65SZk8XNAnu7WEde7btRJp0W5IM/7hc97HLBlxLuWtgDpTOMk46xH\n",
              "8FM3YTOzmZycnbOhLwYQ4z9p5z+ALyAAAAA5QZvsSeEPJlMCTwAK+uC9MLD/arBzjflLjooCeqKA\n",
              "r1IaheQAGPeAOAgIcDyXinskAckE5hf6IBswAAACCEGaEEnhDyZTAk8AAHf/y4DqAQ9/867hNMVR\n",
              "SDl+JFYPAP6yJ5Xdv9qMDvoNQpSnGquWn2q1GraoprPrdPhQ4LJHw1w48dGHfXPgZDtdV9IzS5mi\n",
              "qxuF9yFWGNRB9TqcX+efq1SdfGq1i8iRv216wF1nOqsJUOsR0FtrD5QxF9tzRMXR7sDCTDAS7MPu\n",
              "ypV9MC0+dvNrHuD15lGnifJKnx9QISU1/C8YpOH1V9W1HTH0me1SnRnp6R1dPK4DXdy6EXb0jsyU\n",
              "3hf/HhwzfFRGO9eWlZwnITJFr8zb8YsgwSeRSL4z40QfmSxUXZKNIV6Zv/ghiA/4M2MT2D4aLZ4i\n",
              "RZopv0XBsGw1VkL4UVwl//w/cE8EAPwpKsB/FRfMa5mA2/7sk8n+Ip+8kNW/FfWPQ8wH3UBPZctW\n",
              "oa+ZZyk2kLgmkbLelWA32dHQNEc121VeBML/rEowWGPEl4q1VJ45Aob0TLr43XEmU/T5v0hjV33w\n",
              "pMKddgx0PwDPorwyvUWvxuK8zKh3fWCNesaABQLjEvd4qG9gVsysq5Z3jNHnW3fMgjjYjukV0PdB\n",
              "fXa2x4bxWduuSczN5wtqJd5QNhImAK9+1WKnHF/SEh73v/qIFMH7PWmnVc8vjhIg8DYysZZRIA8N\n",
              "/Ed3YObuRxbTsbV1SP+1mXcWQpD276E7+tYOGS3K6kSddLNAEnEAAAAtQZ4uRRE8Jf8ivctMxF1e\n",
              "mPKW927ZFxqgLwg3JBIEarKeZSZpa1dAOwPUABGxAAAAIwGeTXRC3ybXfEXSiIs9QXFRwPBQgRBh\n",
              "0ALAjCYRTpnIACDhAAAAGAGeT2pC3ybXfEXbhsAGxjAkwmOAAADrgAAAAalBmlNJqEFomUwJPwAA\n",
              "d//Lek5KQLgv6X0JILN6d85yp0pbDZ0belDvM54XmGvil5gdFe3D+rAYfw7K6pGbWkLw0ZbG95VY\n",
              "m0GHGS9+1wNtGA9jnwSeffpxTgdSENTQ/ymT98e3QSBYUljwSKc0eaNz91VMfWHawm9rjAvy7+Hd\n",
              "Td4+bhM+2s4Ddg9kwN2cRqRew7cpnAgGAMpfBRgWDd+7RUzsjjdJ3GoWNytiJJlttsJ2e6EZ/xsB\n",
              "IcJoxRAiVDzgQipev11emorHo7zAzWi5psGA5NiJMmyx0jOwXr/uZQlz1ubxzqFOyAdJ5Uq8NOf9\n",
              "5K2inhHRtUOBnqcHZzF7GAWt9cwBgCARSa89Qjx/9MKTVelqj/sKcc30+aVIV967sehMXkmCfBVg\n",
              "aHEDRuJjpeNzLRCDfP/GQPKKOfBAUx81MRMDsCN4pp00cM3pAAclSfCBzjFnPdT/15iXAKBLEhEK\n",
              "im/bz0vU6D4jSmNAkrZDu0IY5lMLQyk1WEfKH/+5Sf5L+WvphreqFeaD/MZbKqdTVoRZkQKfFmEm\n",
              "Y/iSxrJPgAH1QACzgAAAACpBnnFFESwp/wINYH2NrI8wVfLkE8qS1fKm9YFTsX/YiYQ9VpndawAA\n",
              "EHEAAAAgAZ6SakLfASyVTOI5YBlDxiLVWh5V5s/qHUHQeaAAD/AAAAA1QZqUSahBbJlMCT8AAHf/\n",
              "y3pOTAZiFqfDuAn73Q7dUSK4EMsX6Rph4X59/zhBdcXBfMgAUEAAAAA6QZq1SeEKUmUwJP8AAHf/\n",
              "y3pOH/oK6j3rw9jDIIOdvwcWReYKhYzHsq2eol0ytPKzej5LWC4HFYAHdQAAAZtBmtZJ4Q6JlMCT\n",
              "/wAAd//LgeoIOH4EfuK1Y5rCFHN90W09ZuKZjE6zJQzfDEtQrh3AuWVf/7ewRjIOhcScMaoRTcxc\n",
              "BxKQDpoimtB6VWisRd6xabkAmtEeTIPmqgCmIuGWWFd6JRdc4KWhPY4VnjEO4GHJY3r/8T9dzYfD\n",
              "b0oXv5r017UbIfwy7QH6Ev+d9OFiJPbuPf1CFOAkRl9rChitNVSXN9yrBM2m5IliopHEjIp0Eygv\n",
              "w6poU7OXaYfundAIw3ZYyDgcWdxA8XdfQwuaJtotgN680EuxZPGI8VqUdWoJhG8rfgHFBw+S+qg/\n",
              "0uZM4+IdOgS6DKWSUjl5ZH0P2Q/BKo9lqxgKNOdu3dU6cBXzuMzy2mcCLT/ecEyY7D0yfOW3e+yl\n",
              "5f18OeiujFV0wAkEyOxvNT/Gl6+MSFZ+GuIZm46Qgx1ftHncAK8gCKdwhS2wLF1EhwRmonUR2YU/\n",
              "gMLvW8Q0mB4V6Vp3dnE+0/iQV5ZAw6flOfRNJw/Wsvv0B3XUI8ZIFFSZ2r0DBoTLCWTQQp0MOUnA\n",
              "BvQAAAA/QZr3SeEPJlMCTwAAd/RmqAQe63rp9K95Idq49PjXq//XTSRuCcYv0GuDz5wW+z4G7FpD\n",
              "3ERqL5zQLz6FgCzhAAAAO0GbGknhDyZTAk8AABdJMQY7/nzUWJDIZHah7/RdxzSoi60FR0EHqYXA\n",
              "x5DVRjHBaHs9SVfO5hzIAIGBAAAAJkGfOEURPCn/Ag1ge4Hy4LZf85yftrRxOqo+yFM5mHiXsdoA\n",
              "AIuAAAAAFQGfWWpC3wEslU4a49ZfBgAAAwDUgQAAAElBm11JqEFomUwJPwAANJRFLv0V7gicF7SM\n",
              "W0d4D3Ib0sVbycinojojE0VkPJkDPY/9h8zk6v5BZncBWcyD6bXVc5xUO1SbIamzAAAALUGfe0UR\n",
              "LCn/Ag1ge3wKE8i/Xn1A1CgR61/R0sn96ORqyf1zHZ3cIBDhwAB1QQAAABcBn5xqQt8BLJVOGa4k\n",
              "YDC5ybtS4AAUkQAAAg5Bm4FJqEFsmUwJPwAACY/4pK98/aKTmKVN+EleV3b/ajA76DUKUpxqr0zc\n",
              "sttLaoprPrdPhQ4LJHw1w48dGHfXPgZDtdV9IzS5miqxuF9yFWGN2AKzClv88/Vqk6+NffA+s6EO\n",
              "g+pWB5XSzhHw84sB1J8PsYhlZa4EI+VyYRPW0TF0e7AwkwwEuzD7sqVfTAtPnby7HP/s3hFmyfAo\n",
              "H36RykkN4eZhgOVeEfvohSkWh2sG9Ynp6SFLS2JO8kIb83jen4nW8MRehD2oDUg9NjciT0c/bojP\n",
              "/NPX+4TBiM5oQ2i7qE7QxrLzBkdA6cNPrgA22Dk1JdwVhp07PYMMgw+Vs1oTHOTKMxf1jWQxhRXl\n",
              "r10TDhCu2cACkpwLrSvZBxnVoB722v86gJZuKJ5eDV9ZBAHZ6agKoIw+y13ZanSj2H/rL/8vurTQ\n",
              "HsYj/Y5oC4nTonvDA4i7+CY0KVqU7BkKXbtcxEGCmqwgLDIKxxSvEL199Fu/9Oh9l9jvw+WX/ML/\n",
              "JU6Icru9WG+jgfnvNgXcsuPObQChZCXmUri1EijRvI3AwgJK3mWHAvHfMpItmkACtOtVvtMjYDVX\n",
              "soTq2/TXLcegSlbHf7RsOLQ1SrxAxtwCVNfoIx3XIDOHaNpQqTUXTLj+Wn3Ec3C60prlTJbMts+i\n",
              "Oqb/Fb7kiFPmODe+nn1rCHgLlHXCSRPFAALOAAAAMUGfv0UVLCX/Aebzc2Eo0rjflAW3kxqq/jh/\n",
              "I/L9Lfb0GImD1aETqDGqRD+6EhgACvgAAAAhAZ/edELfASmE7c5YgBygZT9JOmbMaoEByHbMwflI\n",
              "ABIxAAAAFwGfwGpC3wEslU4RVB2ZNpvRQasoAArYAAABekGbxEmoQWyZTAk/AAAULycZ3W/gp+uV\n",
              "y0JBAl78hsbLoSyBeR3cBW/bDaybiqPWsdcnxgDra81XMstyyY6GRj4abGSjv8IsvL3hBR/cQcBm\n",
              "od0Wh5s+jDylLwwUcfjf0F2lungABnZHjAyKJUP36BpEpNY7Z+Sl0p/gs5hVqp6IAmUJ6RbuES//\n",
              "TLPcldOSNDblbWKK0CXsafkJkxC3C7+SCj9ZT48SliHbu5Vm/+z9lBQNkB/LeUd0BQ8ef6VkCpfH\n",
              "Qn9GZuOZiC/zhEjMCVQYzTogvaKRiOEAcM+16WbDwOMwwpONgL4YN389uxj1haVKPEDtK0XNjw+N\n",
              "rxXGoxqr3AnpMSp3BR00bSLrRpWQAOI8GWlXd4exoJr6BzelBAJyPTaWtuWVFGeKWPELttGZiU+x\n",
              "yosF5SttVxNiNUDrzuDasf/B6+rylN5zt5D1dcOeYGn2g/Yeby5E/wFDJrheeyhWdsve6J2XJy9h\n",
              "B2zcCwN0UcF9QGAEnQAAACxBn+JFFSwp/wINYHt8CgLnrRgv6uDmzUSzocqTLzpd98SydracvAbu\n",
              "VAAJWAAAACMBngNqQt8BLJVOEX/ug8q0amqI35Scrers8kpqBOyAXIAB3QAAADZBmgdJqEFsmUwJ\n",
              "PwAAFC/1COCi9Xg98Cj2vM1dppTn/UN4B3URKmDoHmkD8pZqV+2AIl4AScEAAAAmQZ4lRRUsKf8C\n",
              "DWB7fAoC56y8DNJ8kABP8L91QVDq4nOsrn4ADPkAAAAXAZ5GakLfASyVThFXGX3Nhu5CEwAAYsEA\n",
              "AAGqQZpJSahBbJlMFEyfAAADA5P+W+D6QLgv6X0JILN6d85yp0pbDZ0belDvM54XmGvil5gdFe3D\n",
              "+rAYfw7K6pGbWkLw0ZbG95VYm0GHGS9+1wNtGA9jnwSeffpxTgdSEbkL0ug0wILr3tbBGJjt3YwB\n",
              "Rufuqpj6xy30HtUD6Ywfw7qbvHzcJn21nAbsHsmBuziNSL2HblM4EAwBlL4KMDW9bOE2FjVn5b4m\n",
              "AubHCItgU9LNgCq+d7/opbghwmjFECJUPOBCKl6/XV6aisd14EWspD3q+QHJsRJk2WOkZ2C9f9zK\n",
              "EuetzeOdQo2OjpPKlXhpzSTJoWQLl5RtUOBnqcHZzF7GAWt9cwBgCAUlfjfBEp4aYUmq817ZJAqc\n",
              "c30xsVIV967sehMXkmCfB9gaHEDRuJjpcK8C2hhvnrjIHl2QbwQFMfNTETA7AjeKadNHDN6QAHJU\n",
              "nwgc4xZz3U/9eYlwDPKxIRCupv29XL3g11JiUxoElbId0hDHMphaGUmqwj5Q//3KT/F/y19MQr1Q\n",
              "rzQf5jLZVTqaviLNF8NFnOn+rySarwJ7wBdgwAqoAAAALgGeaGpC3wIdd8kbNj4qrFU/vVby/KLt\n",
              "MWW63h8NJwMU0wonTh9NQnNgmw8AAXcAAAA1QZpsSeEKUmUwJP8AAAMDk/5b4PwGYhanw7gJ+90O\n",
              "3VEgADLkP6JKXd1v7L8JWlfC+PIAEXEAAAAmQZ6KRTRMKf8CDWB7fb/aEpcq1Bam7YWVPJnuSllB\n",
              "YLtlxl0AAfMAAAAUAZ6rakLfASyVThFXHHNAAAADA64AAAA9QZqvSahBaJlMCT8AAAMAKze77RUL\n",
              "+YKuurXsCyaf33EYkW2j2eCwEkkz1pZ9+/nuUDegV8rauUF+bQATMQAAADBBns1FESwp/wINYHt8\n",
              "CgLnpDc0nInP0YE7Bb1jvG9pswwKSfz9K6XEcij1iSQAR8EAAAAaAZ7uakLfASyVThFXHHPGx/nQ\n",
              "D5EQDQAAu4EAAAA4QZrwSahBbJlMCT8AAAMAK7/sJ8ntmvAdHrr3JQcq95o+jf/FAcgmw5XOMBDl\n",
              "c6rghffM27QATMAAAAF4QZsRSeEKUmUwJP8AABQvJxndb+Cn65XLQkECXvyGxsuhLIF5HdwFb9sN\n",
              "rJuKo9ax1yfGAOtrzVcyy3LJjoZGPhpsZKO/wiy8veEFH9xBwGah3RaHmz6MPKUvDBRx+N/QXaW6\n",
              "eAAGdkeMDIolQ/foGkSk1jtn5KXSn+CzmFWqnogCZQnpFu4RL/9Ms9yV05I0NuVtYorQJexp+QmT\n",
              "ELcLv5IKP1lPjxKWIdu7lWb/7P2UFA2QH8t5R3QFDx5/pWQKl8dCf0Zm45mIL/OESMwJVBjNOiC9\n",
              "opGI4QBwz7XpZsPA4zDCk42Avhg3fz27GPWFpUo8QO0rRc2PD42vFcajGqvcCekxKncFHTRtIutG\n",
              "lZAA4jwZaVd3h7GgmvoHN6UEAnI9Npa25ZUUZ4pY8Qu20ZmJT7HKiwXlK21XE2I1QOvO4Nqx/8Hr\n",
              "6vKU3nO3kPV1w55gafaD9h5vLkT/AUMmuF57KFZ2y97onZcnL401gMgDgEkVJIA+YAAAAYpBmzJJ\n",
              "4Q6JlMCT/wALJ4EY6vdsmEquBy+c5HoXNel/Na6nAOpbmzrrGjud48GwTVil3CVEq/MvcaOyRmSv\n",
              "pD96BJi4Jt9qBLRoZDSfYGpCurR3H+3Q8QF5m0tgS1HBydv+OR4X5hufCku3XI1JlioqB0G+CUtB\n",
              "b1cbjg08H0HKZPVytfle0QrdoVKv2E9MPvx8DiyvattNz/NADMrBCwbnzWPVw3l9NQiBtDhCDFm1\n",
              "wh56q9sydpG8kBTFwyD1TnzF6HY18pPgbh3P+/jXlOCtC4Y4Zv8v/qUiBJ6GqpUjk/GJDbIux58m\n",
              "IVG7j9U+V0bUOip+575cX8AhWHMgMsEEIEWOkKXUFJ3YVb0qqBRVq9xfka69Lz4afvHwjRodPRjt\n",
              "EiCKgIQ1OsL+0HHS8wN/FSs+XrVpVTUY+HhfyqvnI18DpAx5koHggLzQPVRK7vFzQJ7u1hHXu27U\n",
              "SadFuSDP+4XPexywZcSt2lZg6UzjJOOsR/BSckGTWsyVkVp6bbmA7Xg4j4WAAEPBAAABhkGbU0nh\n",
              "DyZTAk8ACyf3N8+jv4nQPC3+CoQq7C5fToqnWUexwvKgYs+VIE+v4B8fN2BvBeX/lh+IPlsRcfd/\n",
              "5xoi/zvFB7Zh4+qI9F9gUK0TbenGxgN7lrgQwULuCRAlHpDXXrrfEeJujXNqKXCPIbVDmVPOmuSt\n",
              "DHH74K7BgL6ltDfIr0XyR+inSajNGI9d+q66+W5y0+T4oWqkPWGp4tnDdwP02iVFP1EBm0sD2/NZ\n",
              "VA9sAodeYc2rEAIZ1koxyCdTvW6LRD25R2MgKpecFllUSJo7ZUmQnIkArQLNXru49AgK6mYSibPc\n",
              "nAhYd8sNOsu2oOYbuEmFphAs3tnXmXRW34Ce6sub7txTPleB8mmu+9Hgt/2cgXdj0Ji7CVVaEniF\n",
              "54q1eWyhqiI4L5E8r2x5Ry/gj1K0lzVjrPxLgNlx4crg/h5n57Qe6nCcNQmV9wPoy6ysfjGrm1LD\n",
              "POJbBOjdm7ygoLJOovO+422GzmI7o72ppwRocjonNx6zgtFljKAAAAMCbgAAAXZBm3RJ4Q8mUwJP\n",
              "AAkyGH6YSXNXh8K6ywlGxwHCNmfmzfYcUNq1apKURJHfQcORsKGCMkfFvWF/i1zvrVI7WijSLljQ\n",
              "VjHMQT/xou56yeSx95sm3IRTfXutPxgdFuhZp6TApDMnM2v5AEm6yq42OcMdJlX/yd/kwRU2ZJ7/\n",
              "VUSLZp0rFy/jLYcJGEFplpFxqeffpANQOztCue5JKaZTT83oQtXVfZyabRdEQDX+8CI4p6GDi+8u\n",
              "vF1uBez8kPukfz9hso9W/2eqcx+byFiqCp3mmyTx+NBSt6dLAijbQaUK1QDlEGGs4Nxg7+uq/Wdd\n",
              "0lEqM2tikYFvki9v6PX7qQLJf0PeYRXVDoVXBgTtY0gxI2TnUFNMglKDMioKOBKPesHNlHcGft2o\n",
              "ezeE6sMQBYzchAQnEJGZqt+ksDocceCwFOylYdUv3AAByCp9kwfUO+9eMVOwXnEXxziOoY52Qj7S\n",
              "VaFSNqdbneKFGfb91qcJKpxfAABcQAAAADlBm5ZJ4Q8mUwURPJ8ACTIb74hiSbTwHgk0SLoxnm+k\n",
              "cp89U82Lu/e4eYYijYbGUJ2ehhmUjWwABH0AAAAkAZ+1akLfISfawAVNFJ5t1rtaxIfM8pEQNeyq\n",
              "iPQ/qkAAACHgAAAAOUGbuUnhDyZTAk8ACTJYOXAb43GLtXKPPCb+vxQcrTzgnq63DrDMIJdCc6B0\n",
              "Kz+R+SNJ4TN+AAC4gQAAADJBn9dFETwp/yAgAvFIS1XOjoaVaLi59UNuvpYB1ouMPWd2WQ8kVNsC\n",
              "WtmahaFbEAAR8QAAAB0Bn/hqQt8ePrtij9Lg9+jIGHk8ZXFr3T0AAAMBWwAAAiVBm/1JqEFomUwJ\n",
              "PwAAER/2E+Ts/uS4Urj2/1h4NjsvMQfYIn//KhKxMsp4F5mI2oMioJ2OAonlZ5tDxhdR1O1I6yN6\n",
              "ex73v271NMCaUjJLCS5NCBTSNnsLOEqd24VTBRtjRKbEGZa+7jrpTSu9P/IyHxrgJWp1A5gn5c3e\n",
              "FFsv+TpgyW/nakhUzoxpCjbC4f0KzGTUCHXDLW2lhbT1mMwwQTpRr9s98R4LSuNjPfhaCM/RY6M9\n",
              "JFWa+F2BrL0PRysYr0/kIxKVE9zeq8PQ5m6ZpfnfVn2zizxFC4sQGqCCKV68/4IjGajVFgijNJkl\n",
              "9n0OVVu/RK9momqbKeKa7oiQVFeeTk2SUFEjlKACNOxmrHpgxYZJf2Bd9nG0kCOmln8s5MDcp90Y\n",
              "Tq/+ZqfHoi9/eL+z1oRagJ/VGzHI6I8dfhBifLYhB01T7sBFQT5V/XbymL10Vedn+xnHB7+zBlNX\n",
              "rQ+HfjKL8cv3yCMWbmbrcwFhsm6yoKFdOCFl9M77mXFpznOrSU7yrAFyBd51yD/h6WEwvakhES6k\n",
              "ssrX+Ks29uVYOKuhp1FBcAq5l9cTHSuU25deAVxzQd4RpNtel230gk6vf6ew62JK56Hahw/C2MuW\n",
              "n6mMgvlgQPFs441LClPG3Lg0b1SuKw8ymt2JdgbkHHr8VWljq3nv20pt9OxXa8vSTYEOK948iZbN\n",
              "qz8BigdEw7jI5XQWTc4uC2mu4GE5WFCALuEAAAAtQZ4bRREsJf8bohHD6ckVaDt6eO0Wnvdph306\n",
              "i/sKsriGCbTs+IxA8cH8QBdwAAAAJQGeOnRC3x4ThjBMgEgdZBehjwquD7EmDy69l7FM98L6mIwA\n",
              "FJEAAAAeAZ48akLfHlNx29M0C60x1uMofTAkeQMmmejoAHdBAAAANUGaIUmoQWyZTAk/AAAQ5t30\n",
              "0vKwXfKKy8xhhO14niPDJKyidvf72GLs5yHPAeOCSg44QBdwAAAALUGeX0UVLCX/G6Yi0GYizyXt\n",
              "VvJEzZLD4wxVvt0rEczOrtu3EPKqIbsiFkBQQAAAACEBnn50Qt8eE4YwTIAO+LiW0Lzjna7NR2TZ\n",
              "IjsRIhhAAj8AAAAmAZ5gakLfHlNx29M0N3dZ+0e6uscZfYgtj0RXlrKdriTDJJoAC8gAAAGEQZpi\n",
              "SahBbJlMCT8ACU+gDQKP8FQhV2Fy+nRVOso9jheVAxZ8qQJ9f1JVkzeMN6Cv/LD8QfLYi4+7/zjR\n",
              "F/neKD2zDx9UR6L69eBzk/lMSJZIUI6PdXfQsiV0twBO/tDRuRCIQdGubUVQI6UqfW6zPSW5BiQm\n",
              "l22Xbkag7uSP0U6TUZowk8AguuvluctPieKEoqU1hqeLZjT0Ch5yoDcOM0ipZnYSppeSe2AUdYtj\n",
              "taiof51ko0NQGjF26LRD25R2MgaLfkFmBgManpORIBWgWavXeBMD9YGbTLZg9yfEp4Nd14adZdtQ\n",
              "cw3crJsVkJYm2dYutx2/AT3VlzfduKZ3xhFKfOG7fs5Au7HoTF2EzKPUdchtEVZd2jQ2qwNbSn8H\n",
              "tjyjl/BHqVpL9ZHCT7XgbLjwhXB/DzP2Gg6QUATxJmMjwPoy7chmrxjZjakfZiyUYHWaWp+UFBZJ\n",
              "1F533GxwCDUCR7vamnBHm3sFdNFBvWcF9XxsP3cmGgAOu4GSPylYYAAsoQAAAY1BmoRJ4QpSZTBR\n",
              "Usn/AAsngRjq92yYSq4HL5zkehc16X81rqcA6lubOusaO53jwbBNWKXcJUSr8y9xo7JGZK+kP3oE\n",
              "mLgm32oEtGhkNJ9gaxdlWRuP9uh4gLzNpbAlqODk7f8cjwvzC0v/JbOuQdrzWZoHQb4JS0FvVxuO\n",
              "DTwFGVFk9YJLE6yHwJPmLrz4mNUq/YT0w+/HwOLK9q203P80AMysIZogSex6uG81qAC4ZydHe6Wa\n",
              "wmJ4gMRA1mSN5ICmLhkHqnPmL0Oxr5SfA3Duf9/HX8uEQrD8lyeTDHDN/l/9SkQJPQ1VKkcn4xIb\n",
              "ZF2U5cpppe3Sr8ro2odFT9z3y4v4BCsOZGYQAL75hb7XZzmPBdQUndhVvSqoFFWr3F+Rrr0vPhp+\n",
              "wAUsXu56MdokQRUBCGp1hf2g46XmBv4qVny9atKqajYsoX9AVOmhph6QMeZKB4IC80D1USu7xc0C\n",
              "e7tYT9d/3aTZa5cO2dhg+DwGuubhkAfj4lZg6UzjJOOsR/BOpAOk9jAAAAf4AAAAJwGeo2pC3yft\n",
              "2bEaaAfKyaKSRSsS0292GmP9QrgX79EyOAAAAwAEjQAAADlBmqVJ4Q6JlMCT/wAK+1RqvxAtn4CT\n",
              "rVxXqnJzTJ2OAm9BXBNn4lj0q5ry4544yc3MYiPqIAAANmEAAAF2QZrHSeEPJlMFFTyfAAkyWDlw\n",
              "G7gWLtY5k7xAocEDN2ft2Xf9WpoKtUlKIkjvoOHI0nnuSRSTCpH4jHER5qOGnBBpFyxoKxjmIJ/4\n",
              "0Xc9ZPFemVjXEUIpvr3Wn4wOi3Qs1ohgIpmTmbX8gCTdZVcbHOGOkytrLO/yYIqbMk9/qqJFs06V\n",
              "i5fxlsOEjCC0y0i41PQqkgGoHZ2hXPck1qUTT83SQtXVfZyabRdEQDX+8CI4p6GDi+8uvF1ZMsHW\n",
              "ZI/n7DZR6t/s9U5j83kLFUFTu75Gor40FK3p0sCKNtB4iqyw1KerVXbm1Nywk3/Z13SUSoza2KRg\n",
              "WejSpXF2V7ECyX9D3mEV1Q6FVwYE7WNIMSN45NBTTIJSgzIqCjgSj3rB1hnzQc27UPZvCdWGIAsZ\n",
              "uQgITiEjM1W/SWB0OOPBYCnqKtEOX7gAA5BU+yYPqHfevGKnYLziL45xHbEVN1ZPJKtCpG1OtzvF\n",
              "CjPt+61OElU4wYAAsoEAAAAlAZ7makLfISAEG0HxDAWTHiiLULwmO0ECJ5aXzHVt8sVu4AABwQAA\n",
              "ADJBmuhJ4Q8mUwJPAAkyHG+IqR5YiPv0IJ0ZBAEzbF3fvcd2YHOoVp7FX+iYpZQJQAAaEAAAADhB\n",
              "mwlJ4Q8mUwJPAAkyGH6YSXNXh8K6ywlGxwHCNmfoNzS5T7u1Gk6i+dPe5iGXJQyqx+MwwABZQAAA\n",
              "ADFBmytJ4Q8mUwURPJ8ACTIYfpeQAAIyQzozeAZRd/WD+DxbNeGbnUV5tmYwaBVQAB1RAAAAHwGf\n",
              "SmpC3yEgBBtB8Sd91klaw0JBWQ4C0WEAAAMA7oAAAAGKQZtMSeEPJlMCTwALJ4EY6vdsmEquBy+c\n",
              "5HoXNel/Na6nAOpbmzrrGjud48GwTVil3CVEq/MvcaOyRmSvpD96BJi4Jt9qBLRoZDSfYGsXZVkb\n",
              "j/boeIC8zaWwJajg5O3/HI8L8wtL/yWzrkHa81maB0G+CUtBb1cbjg08BRlRZPWCSxOsh+f1qDGe\n",
              "l9eJJV+wnph9+PgcWV7Vtpuf5oAZlYQzRAk9j1cN5fTUIgbQ4QgxZpBAr7zEQNZkjeSApi4ZB6pz\n",
              "5i9Dsa+UnwNw7n/fx0zMGLu1qEOzjk6u58JN6ZlECT0NVSpHJ+MSG2RdDSBWFpe2mr8ro2odFT9z\n",
              "3y4v4BCsOZGkOK0689RYas5tKUuoKTuwq3pVUCirV7i/I116Xnw0/X8dle2gZmO0SIIqAhDU6wv7\n",
              "QcdLzA38VKz5etWlVNRryFz8+VOmhph6QMeZKB4IC80D1USu7xc0Ce7tYU9d/3aTZa5cO2dhg+Dw\n",
              "GuubhkAfj4lZg6UzjJOOsR/BOyANvaLAAAAf4AAAAY9Bm25J4Q8mUwURPJ8ADfcoQhq5aEioCWTN\n",
              "oDgJgfYJtt0kRRhVny1HZUCbA9VyFvUvRYm0PFdI2YyRWR4X0sAVN6tpurwhWY6gV+oyDvwFAVCz\n",
              "K/I3v1BVnoQfbCQTxj/70nOFEUxTELA6q00R10YdvC3Cf5UwMb/RTdETiSjvW/aiROD/c7hvboF4\n",
              "yAN1ah8E6ROTQ88noK8LtTDt4zfqrXP9HpaOwWzajk0yFJ7CfbAgbYZuQmR24fAnJZ0Pt3nCclEx\n",
              "fcQzJGSMbSAtA4zcIUP+9JpFSuNGd72WrYoON0xOjcv69kBwz7hUGe60YbJzX7wDbN3GGAkOUBFA\n",
              "smbXuFP4aRzRpN6X2uIyUQuSwOCB2I1lf54tU3JS7HbGY3SW74OuJ6fKbuIP/+ANUzBQZ1r7gqqZ\n",
              "tGauhvc44Jp0EvYzkYzzoRwksb+3sFT8pZYx1R6juuIYmRJ3pS6r1KBSx5q9xu30izVN0+1/qmWP\n",
              "zihUZ6aGU57GBtp7H9ySvnAZNeinCSSykHgAAAMAf4EAAAArAZ+NakLfL9WD2ixePeBkF8MK1hhZ\n",
              "LJyHAFxV4kzM19thWU5wfAAAAwACTwAAADhBm5BJ4Q8mUwU8nwANrLRqvxAoZAT3IOEpCqcnNfw8\n",
              "3tPrYnN+LXsczRyeub+bGGIqvgAAAwA+4QAAACABn69qQt8v1YKAC1B46Atruk6E5CyCq2QBpAAA\n",
              "AwA7oAAAAYRBm7JJ4Q8mUwU8nwAK+1RqvxBIwIc+f8WNl0BHy+nRVOso9jheVAxZ8qQJ9fymDUC/\n",
              "7SxBX/lh+IPlsRcfd/5xoi/zvFB7Zh4+qI9F9evA5yej6VShsUI6PdXfQsiV0twBO/s6YW+0/TuN\n",
              "JFUVQI6UqfW6zPSW5BiQml22LniX6+oP/Yrv3fPL8glHmjCTwCC66+W5y0+J4oSipTWGp4tmjdwP\n",
              "02ic0BjpyZdu9LtAI1qKE4YgKx2tRUP86yUZyX/B+bdFoh7co7GQNFvyCyrbiBVJGB6TkSAVoFmr\n",
              "13gTA/WBm0y2YPcm1rc7CaqnWXbUHMN3KybFZCWJtnXeBVd0JGe6sub7txTO+L9wJjzTZm8X7OQL\n",
              "ux6ExdhMyj1HXIbRFWXdo0NTyBF+RO69seUcv4I9StJfrI4Sfa8DZceEK4P4eZ+w0Hr/QnDiZjI8\n",
              "D6Mu3IZq8Y2Y2pYR5yLYJ0bs3eUFBZJ1F533GxwCDUCR7vamnBHm3sFdNFBvWcHnsYAAAD/AAAAA\n",
              "JQGf0WpC3ycgBtFUiqw8oVXogTZOQjkK/M4ElDNo97QAAAMAFJEAAAAvQZvTSeEPJlMCTwAK+mwk\n",
              "xmciQB1gfrEJEwtFJ9ASQ2F04oN1ARxgDFcOgAAAEnAAAAGNQZv1SeEPJlMFETyfAA33KEIauV1R\n",
              "MImEzaA4CYH2CbbdJEUYxyOmLj6cJuAV6P6mAGM2h4sowwNHFueJM+AKm/yRWBeEK1HVlOqjIORQ\n",
              "bGELMr8jf+uzhwTQ5bWrsYHcS67cK8PS3J3DZVpp7euhjIHbPaJxAsb/RT5ETiSjvOHZ16y7SzCn\n",
              "Tx7luMgDdWoe+XlOEY3Rp6CvDMUw7eM06ynfnsGlo7BbNrhx+QUzIxBsCLKE3MxP/fadQtB3xngK\n",
              "zYwb3CclFU2AJLRgwaF+HXdhKJxJFdhWqvODPrvZatig43TE80q5FfHLx/d7gDGMG8fkCNDya7Y+\n",
              "LSDTGm0EZt/xtcBGqqzwJ/Yy/gnMjIpPRfnqKrRugHibOF85vVC/ZDEe9Zk+Drkenym7iDsg2KsF\n",
              "neg7ke7sQbLJR/ExmNs9ttHm/rtzmL6EobZ/ksemgaK30R0KFPt7vO7JB3VVgpNTqqjOr6pZqm6y\n",
              "yfthQMOISMBDj+AswbWxtp7Dtyg+gIYQVdngMDvAAAALaAAAACkBnhRqQt8v1YPaKSBqXSBGy2U2\n",
              "qj5fEP/qeLZqmnNqUXE3XcAAAAMDlwAAAC9BmhZJ4Q8mUwJPAA2sNP00CyAKc1E+dS7GJZl6wSQS\n",
              "wqagqf3z+FgqBPAAAAMC2gAAADtBmjdJ4Q8mUwJPAA3yZFKIEzEkUVBma3HQlqyauqn3HbHf1Jaj\n",
              "rTGf9iO7WgjmQ2ss52N1zVhAAAAN6QAAADNBmllJ4Q8mUwURPJ8ADp/ynDUKPbTOgAQ52MXQqgoP\n",
              "ZW3HElVgpHRttX4B9MoAAAMAOWEAAAAeAZ54akLfLwAA3EFb3DlO6ynDW7Flhjc0AAADACbgAAAA\n",
              "MUGaeknhDyZTAk8ADaw0/TQLIApzNys8DEa195ieImS3MCWTzhRZroyWf8t94AAABbUAAAF7QZqb\n",
              "SeEPJlMCTwATanX6qTjBm1+8y+xb/utvTrOohTpNHB0yVmBvz+OqJPxB149aLo4t7lmmLZeUqpA5\n",
              "wNJb5kyi2E5X7cICc2pD8sfG5Kuiq2kwIDJedDX0BbYVFWn3QNNqcKlYtuHHwy4OVWMIr8JUAQOB\n",
              "EEXZPIJMTj6afxf1KBx3VQOM67v6GngaPpKFmaPlYH6bw3xvb07p/4uruQkYj6X5wbYp1E+ECjTq\n",
              "zpnbiGgEpuoBQsNoIz/G+/q6Y52s9cEGeXoDNALZS+GVA4da+kpzHBXEI9e5YueNKKYJ2x787ts3\n",
              "bdg7DJbRXBpYTJY168IigAs7oXtC2T0Kjt8SDQe1gkXAPUnjYlmFQttdmjpGMo/pQ0KFWM1BTAIc\n",
              "LWW/3dMU8+9MCeEpoHJbFKgNp6GIjoccWTTlf5Ovw4MBz92X8bxsaa2B91TEaC8mzNP2SeBisVec\n",
              "icS+EuUw64wiw9lkT4w4n6ejgGtgAE5axphZ1VAAAAMCpgAAAYVBmrxJ4Q8mUwJPAB88CGgUf4Kh\n",
              "CrsLl9OiqdZR7HC8qBiz5UgT6/qSrJm8Yb0Ff+WH4g+WxFx93/nGiL/O8UHtmHj6oj0X2BQrRN+U\n",
              "xIlkhQjo91gMXcEiBKPSGvMe80421StJFUUuEeQ2qHMqedNclaGOP3wvybsOUYq1WO2pGnJH6KdJ\n",
              "qM0Yj136rrr5bnLT5PihaqQ9Yani2aQ9AoecprowkQGb10fMuoAiGooTg6rKM2rEAIZ1ko0L0pxp\n",
              "c7nWl5sDFqQFUvOCzMXBNqwGvmDJ3OJAK0CzV67uPQICupmEomz3JrWhHQpKp1l21BzDdwkwtMIF\n",
              "m9s66lR1t+AnurLm+7cUz5XiQwY3vgZ07IjOQLux6ExdhKqtCTxC88VavLZQ0wR0X5E9r2x5Ry/g\n",
              "j1K0lzVjrPxLgNlx4crg/h5n57QeS9CcNtmMjwPoy6ysfjGrm1KtYY2tBOjdm7ygoLJOovO+422G\n",
              "zmI7o72ppwRocjonNx6zgmAACOMZajEAAAMCtwAAAXRBmt9J4Q8mUwJPAB3XBel947VYOcbrLCUb\n",
              "HAcI2Z+bN9hxQ2rVqkpREkd9Bw5GwoYIyR8W9YX+LXO+tUjtaKNIuWNBWMcxBP/Gi7nrJ5LH3myb\n",
              "chFN9e60/GB0W6FmnpMCkMycza/kASbrKrjY5wx0mVf/J3+TBFTZknv9VRItmnSsXL+MthwkYQWm\n",
              "WkXGp59+kA1A7O0K57kkpplNPzehC1dV9nJptF0RANf7wIjinoYOL7y68XViKwdqt7g/YbKPVv9n\n",
              "qnMfm8hYqgqd3chgoFKignIEyKEUbZ/yCIxv+Mww1nBuMHf11X6zrukolRm1sUjAsoGlSuLt9CkC\n",
              "yX9D3mEV1Q6FVwYE7WNIMSNO51BTTIJSgzIqCjgSj3rBzw33Bn7dqHs3hOrDEAWM3IQEJxCRmarf\n",
              "pLA6HHHgsBT0CMee9+4AAOQVPsmD6h33rxip2C84i+OcRz7HOyEfaSrQqRtTrc7xQoz7futThJVO\n",
              "MGAAF3EAAAAuQZ79RRE8Kf89AAargoh8Ui14LgDVHjvMARVgE10d1PXhBa7DoKPlpGq1AAAIWAAA\n",
              "ABoBnx5qQt85nXiHYBqFJ9+OuyzD1aSgAAAFtAAAAZ1BmwJJqEFomUwJPwAAID/sJ8kuneRtjW4T\n",
              "Rp2HhARbNnCKF9xC/8SowOV5wTN+e7r7XGfZ0JF8lgleeaGHg22j1zKVDZRVIcxztr837+OOxZjT\n",
              "QZRhWuQE7qhBA2NepQBiS0Iik9z75L7UjDT/st57KvxLHEmUNhXI0wN2CstQlvjnrjjUt4djrk2D\n",
              "CWbncVVj0szai4hbPEFJoeA1r9hs1CnQ9/GhVPe1ev34Ou8vDG0boKlO8wgEqq1zL3+5uX8B98Y5\n",
              "UZWuSpBcgcuDVi64ZiV6fad+PpOmW9VifavQdEFq+EH69sNSl/tjJcnWIEN6ponNljwVHVv58cU5\n",
              "sB2s6V3VSfh8bxBEOkOMGP8g4BEdk5sQf7J/bGSlCJn3OJ9a7TIzdGwZniB1kdI11pIZQqFQNTGL\n",
              "iqS8KuGcT2bpozXsPsKpCW34jad+Z5v456PV3+WkJz4u3bJXhPvWIhIQXyIuz4EOFlz86XzyBB5c\n",
              "Jf/qVw4eUexXwrg9yRPK7TmfwHuOy37IAS7HSkL5Viqb+zi/Y8CS6SbKCgBbQQAAADpBnyBFESwp\n",
              "/zhkcqOPAWPiCCqmpOgQf2EpDgqxsAIq5aNRD/vDyZ04+zxNTaRlw2BgAGkCIZP8QAMaAAAAIQGf\n",
              "QWpC3zmdeIdgGoUn27o/BLyq8bqvQ2jZfS6FqAAbMQAAAD5Bm0RJqEFsmUwUTJ8AAB/Nu+ml7H5h\n",
              "WMfBCfdUXz7s6NTPPtSzGNybSyXwjVhSxWXj6PtyHQn4jZdPL7gCkgAAACgBn2NqQt855tIxdWVu\n",
              "qEAM90c5GESQspijvkyD7hrcXEDMy946AAtpAAAAOkGbaEnhClJlMCT/AAAgP+wnydn8gfFrkM0I\n",
              "uAAJLBsNAdYNWjAQKfEegX/Xzew66gxiciNUCSwAdUEAAAAwQZ+GRTRMJf80krSNKPOg0Lny+/sx\n",
              "Bt6nNeg2YtkF48vSebed/7SL8cf/FQCwANqBAAAAIwGfpXRC3zkPhMeAA3g79qsFRRE3TB3pMvfr\n",
              "iLKa6/yAAAQ9AAAAGQGfp2pC3zmdeIdgGoUCOBg0RoQbWlAAGLAAAAGTQZupSahBaJlMCT8AAAMA\n",
              "Op/c4A/uE9dnoxTtVM0Hy9koS08ZP3Jr9v4wQm57KOjifCPw7i77Mr71nmyQqsbmSSW1Valuu6QN\n",
              "H6Q3QG5rWqCJuNikamF3hUj9rxcYgGUmuG6QWI/jiIpv4xarqmQjyDatbwPXCa3W3gE6GB1zSj6k\n",
              "mxaaS2dtpO8tC//XA5ndQL4bDcANkln3Ktwy8ciR4IkYxlVerpC0Q9TwvGTluxfjVR/ULeCp1IZU\n",
              "bO6gJDWXUvRnzVg2eQyO1wmQ+S/ZwCazxoXhPyxnZzbcpolPf/1/2deDY0WEVfeEc8nENBLC2jlE\n",
              "w4WemqJyXxLvHsOP7+VbjDwWTFAmb/Lrt2MHulu1UiVtsgWpLME//xRK87wUhmtn+LLDFkcuaMqL\n",
              "3QpS6D7+HsFuOvK4CA6RwEr4WhcbgbRJDY6pulFJIOGEXyFHSm+3oL/PyngXLIJl5UyKcrExkyYJ\n",
              "cPShCF9R/3RlhPd+sVD+p3DwhJVA2EtdHsfW+RCSrGvGIyG+/3UYi4Aj5cK7gAAAAYRBm8xJ4QpS\n",
              "ZTAk/wAAAwAAbT/KdJanfrRq7ZMgzsDer0wgTBhhPng/qpUKuwuX06Kp1lHscLyoGLPlSBPr5z3W\n",
              "IoEh70Ff+WH4g+WxFx93/nGiL/O8UHtmHj6oj0X2BQrRMP2tfCUKEdHusBi7gkQJR6Q1e4IPIO/P\n",
              "Rrm1FLhHkNqhzKnnTXJWhjj972w6RCKOmmCtwCbd0Yj136rrr5bnLT5PihaqQ9Yani06g9Aoecpr\n",
              "owkQGbas5jrMcG6ihODqsozasQAhnWSjHklCcvHRaIe3KOxkBVLzgskLL/Anc4kArQLNXru49AgK\n",
              "6mYSibPcnBd87fO6RmXbUHMN3CTC0wgWb2zr1iKPb8BPdWXN924pnyu+zQED4f2cgXdj0Ji7CVVa\n",
              "EniF54q1eWyhqlDgWBfb0QXlHL+CPUrSXNWOs/EuA2XHhyuD+HmfntB7f8rXHjWyGFekeYOcNNNX\n",
              "NqWWeclmCdG7N3lBQWSdRed9xtsNnMR3R3tTTgjQ5HRObj1nBZ51AAAANUGf6kU0TCn/OHJfREFi\n",
              "kF+IIINMXVDwHDerHVdmSmhYZieaUCtHAVEWca5Rxu9wmQAAnY4gAAAAHgGeC2pC3zmdeIdgGoUB\n",
              "A+gRbIOT6LCsRYNb2iW6bgAAAD9Bmg1JqEFomUwJPwAAAwAAaZq/6JLwaxpxG4HeGp5C2GEJO6sI\n",
              "r3nqipHgVT/Rnd+K7vE2Uv1igYsghjdN50EAAAGdQZoxSeEKUmUwJP8AAAMAOp4EcIVD4lRgcrzg\n",
              "mb893X2uM+zoSL5LBK880MPBttHrmUrnSixxxAnO2vzfv447FmNNBlGFa5ATurhBuXsG0QAxJaER\n",
              "Se6BkFmmBJdl+WpDZV+JY4kyhsK3RjA6eDZahLfHPXHGpbw7HXJsGEtXxeKRKUGM2ouIWzw7nLXw\n",
              "Na/YbNQp00BPJjl1mqgtocUvfPQLtTLN3S8jpZtF9ers9lz4R/fGOVGVrkqQXUiHW0IXCZhXJ0+0\n",
              "78dw6Q+4AxPtXoOiC1fJZo9sOPzT4I68/1iBDetKk5suW2d1b+fHFObAdrOledDT8PjeIIh1/YYM\n",
              "f5CH0Adk5sQf7KEnhgzPJk121/KiC49gDLJi1ul7Dp3q9JDKFQqBqYxcVSXhQlBYch7vtudxDCqQ\n",
              "lt+I2nfNdDWOej1d/SBCc+Lt1+V4T71iISEFEgY8Nz9isufnS+eQIPLhKrcM1w/lHsV8K4O9p8n3\n",
              "KNumeZ11LmN0vF2OlIXyWkaIEe92x4El0k2hWNfC5lkY6SggBhUCOYDMFd0AAABCQZ5PRTRMJf80\n",
              "krSNKPOg0LnywisitVhAlrnKkiKsxc1Lc6xsweGQeDmTnDYUVnWKgIsp0hWcpbvq5BblsHcWfGuB\n",
              "AAAAJQGebnRC3zkPhMeAA3fp3xUPClHf2yKXWxRTTUKVIDvKh4gck9YAAAAjAZ5wakLfOZ14h2Aa\n",
              "hQED8lcRbXl61KxBb6+uwlcboAA6hVwAAABJQZp0SahBaJlMCT8AAAMAOp/lOi5aN43HrQrLCQ8o\n",
              "NB4iyPlTZyJ37fxghNz2UdHFl+CuAN5rKUxu+fe9FTDQvhx4Wfuh6ajFgQAAADFBnpJFESwp/zhk\n",
              "cqOPAWPiCCBh5wQgSAJXvvkJuuu4ot/QDlnWHerCQjVkv2n5cB/gAAAAFgGes2pC3zmdeIdgGoUB\n",
              "A+jOT9oAAakAAAGEQZq1SahBbJlMCT8AAAMAAGq/y5BgNeAR99Ayztw61qH6hckDV+cD+LGy6Aj5\n",
              "fToqnWUexwvKgYs+VIE+vnfPYigSHsQV/5YfiD5bEXH3f+caIv87xQe2YePqiPRfYFCtExA617sg\n",
              "oR0e6wGLuCRAlHpDV7cg8g6t6Nc2opcI8htUOZU86a5K0Mcfve27SIRR00wVuATbujEeu/VddfLc\n",
              "5afJ8ULVSHrDU8WoJGQHOTZyNGEiAzbaIMdZjfXUUJwdVlGbViAEM6yUY9MoIl46LRD25R2MgKpe\n",
              "cFkhi+Vk7nEgFaBZq9d3HoEBXUzCUTZ7k4NyIbwqp1l21BzDdwkwtMIFm9s699aFbfgJ7qy5vu3F\n",
              "M+V326AgAVIzkC7sehMXYSqrQk8QvPFWry2UNX7jW0qBPLY8o5fwR6laS5qx1n4lwGy48OVwfw8z\n",
              "89oPhfla4hWO6wr0jzBzhppq5tSzjzjkwTo3Zu8oKCyTqLzvuNths5iO6O9qacEaHI6Jzces4LPO\n",
              "gQAAAXpBmtZJ4QpSZTAk/wAAAwAAAwBb/9hO9QCP4K0Sqk4wZtfvMvsW/7rb06maLLIJY+vHq/A3\n",
              "5/HVEn4g68etF0cW9yzTFsvKVUgc4Gkt8yZRbCcq7KZn6Yejyx8bkq6KraS/Hx5J2scoZ2wqKtPu\n",
              "gabU4VKxbcOPhlwcqsYPDF5y4we2WPDs85PevVpp/F/UoHHdVA4zru/oaeBo+koWZlF3A/TeG+N7\n",
              "endHCn/R2sQ82wO2Ts4yT4QKNOrOmduIaASm6gFCw2gjP8b7uxIAFRxPvHRozQC2UvhlQOHWvpKc\n",
              "xwVxCPXuWRBAzDqJFrx7rDsj27B2GS2iuDSwmSxr14RNitGOCHaYk9Co7fEg0HtYJFwD1J42NI7R\n",
              "1wuzR0jGUf0oaFCrGagpgEOFrLf7umKgxAgzn1oUDktilQG09DER0OOLJpyv8zn2j7TGK02iLzVg\n",
              "gmB91TEaC8mzNP2SeBisVecicS+EuUw64wjXUyyJ8YcT9PRwDWhkqYAAAAGUQZr3SeEOiZTAk/8A\n",
              "AAMAAAMATn/UI4Hg9ZBvekv3k8vKiJhM2gOAmB9gm23SRFGMcjpi4+h+oHquQt6l6LE2h4rpGzGB\n",
              "0yG5jiQqb1bSi+kKzHUCv1GQdpNT8xxYcKlgv1DmjZCgaIA/VaEE7ILY14WyK1BTu3EItXRh28Lb\n",
              "eqv46dOf0Tn17WPfXsw6gep2EgnyMkLxkAbq1Dwi1NhCezDygO7aARpS8R75BDn8uaWOwWzjSdNU\n",
              "CvAz16QG9ENtyLHsK9JjRFe6C7NPd5wnJRT8iXsPhnTARh1s3pVp5HgABqptvdO9lq2KDjdMTXYC\n",
              "V/OFKKt+Xx9K8G8etB5LP+vmGmyPzlptBGbf8bXARf/cANlu/J6XUZcV2QBRO4G+SPhPzxW5fOb1\n",
              "PModAFONMGxy9afikkw1VN5mF4LO9B3I93Yg2WSj+JjRyUIFIUU7M1gvGNnJ+U/ypEFx3ogK1PXf\n",
              "9i93ndkevkaii69Q6dSazLQfudyPhk3XKPLy3DZwvwFgfNDHcru4dFXzfghs+uHngOkAAAA/QZsZ\n",
              "SeEPJlMFETyfAAADAAADAE2SREaeKPBrQ4DuBDjdjRuyCKsvNsslvsfDY+DZmOTXWbsAArzerT6R\n",
              "J8HBAAAAJQGfOGpC3wIdd8QkAAPViASpRTHAEyWhFrHa3YIFnVgl2xnL1PAAAAGEQZs6SeEPJlMC\n",
              "TwAAAwAAAwBb/JxoFH+CoQq7C5fToqnWUexwvKgYs+VIE+v6kqyZvGG9BX/lh+IPlsRcfd/5xoi/\n",
              "zvFB7Zh4+qI9F9gUK0TflMSJZIUI6PdYDF3BIgSj0hrzHvNONtUrSRVFLhHkNqhzKnnTXJWhjj98\n",
              "M1RaCqLKGKOMpfYTBW4BNu6MR679V118tzlp8nxQtVIesNTxbMaegUPOU10YSIDN6FWbDULjS3wM\n",
              "iYlcv6oEAIZ1koz3f97L26LRD25R2MgKpecFmFv4BvcV1P0nIkArQLNXru49AgK6mYSibPcm0ykG\n",
              "+2dIzLtqDmG7hJhaYQLN7Z12hAXdCRnurLm+7cUz5XhoBQC+Bn3HSM5Au7HoTF2Eqq0JPELzxVq8\n",
              "tlDUqQpfkSp5bHlHL+CPUrSXNWOs/EuA2XHhyuD+HmfntB7ecJw72YyPA+jLrKx+MaubUsA85QME\n",
              "6N2bvKCgsk6i877jbYbOYjujvamnBGhyOic3HrOCQAAZR5VgYQAAAEBBm1tJ4Q8mUwJPAAADAOpd\n",
              "LAwdIhnN16iOR+BWvryF8De//AXqDSHJWG2LriLhmiCheOCYM2plqLVbbpW5gOgiAAAAOUGbf0nh\n",
              "DyZTAk8AAAMAAAMAWuTffEMS2/9pcBMT7n6wMfu+fPNGBCAgnlaI7r6Rw9NHZYFJPXjkGQAAAEdB\n",
              "n51FETwl/wHm829kAAOY/zJ1+nz+fy1PG2jDRP87mh5JvFuGpDQQXqv9uoUSMLRE6mSFc5q6+hTK\n",
              "g2mM10DLO31dOBhrFQAAABwBn7x0Qt8A7I8YADSYmlDkIMQ3iz6yIlcqanYQAAAAFwGfvmpC3wDq\n",
              "XqAAN9qn5cgi/j1N2oHfAAAAOkGboEmoQWiZTAk/AAADAAADAFv/2E+SXT6ILtpxylfbsS7u2UUn\n",
              "hKIyH5r3g3XfQKKigLF2OzWzHYEAAAGNQZvBSeEKUmUwJP8AAAMAAAMATn/YT5NlDQbaENodx7KA\n",
              "lkzaA4CYH2CbbdJEUYVZ8tR2VAmwPVchb1L0WJtDxXSNmMBjwEfx4Aqb1bTdXhCsx1Ar9RkHfgJ+\n",
              "LosOFTpA5CrPQg+2EgnjH/3pOcKIpimIWB0ytFQXRh28LcJ/lTAxv9FN0RODog+MtEXidhH8Tj3L\n",
              "cZAG6tQ+CdInJoeeT0FeF2ph28Zv0teecYmNz0WzajpHo5AeU+2BA2oo48oMTv4E5LPc9u84Tkom\n",
              "L7iGZIyRjaQFoHGbhCPgABXd9xDu9lq2KDjdMTo3L+vZAcM+4VC+iHRTFYh3mWb4DNdqYcoCKBZM\n",
              "2vcKfDiwG/Ymffa4jIhAJnAQOxGsr/ib+BZQFeFDyI623fB1xPT5TdxCIvQBzCoKDOtfcFVTNozV\n",
              "0N7m42ROgl7GcjGedCOEmbf3fcqflLLGOqPUd1xDEyJO9KXgYKgVbPsrsrq+kWapun2v/Ayx+cUK\n",
              "jPTQyjXwWNtPY/uSV84DJr0eLKwHQAAAAaRBm+JJ4Q6JlMCT/wAAAwAATnljURdv4wQm57KPmDRL\n",
              "PoeS+19dtm1flcxJPgLtmn4CqPfvY57M53qJKk8Uziukb3n0+jzsv3yrLQebPqKf0h762jPxTOof\n",
              "lveqUg/vOFkrAD0DQlpBTdXXEMqCeZXJMq/R/B/Y+pSF8cl1ao4xgVF0GW9fd6u6YICALyw2DV2i\n",
              "iKWGcycILNdz+mHNFy5sY8K4GqoMWycOONUsx+iGUT0vdS/C6dzUTvFPO4hWX89CNf484PDQ7rav\n",
              "dpQIHwDwvVaXfnzANM8y7WZGHZnZjL3XBpCAwWFglfbDEAqfmYILuPDViXJAt/zdfTv1hRe1GbZj\n",
              "VTOAVueB93FCVGUAa+UWDJNs716JO3xPn4XcBNchQME6rzM2517XFw9olgbpc3BK5+gxMAdoSOZx\n",
              "qPMvFwUulVOzkD73KhdrcR5qp0uzd9FCzk0i2RTrqtApPE3qERwT8jO82cK53X9glCrSIf03hC9O\n",
              "Wx7iUVxAyvPzLHoFmuCBmM/113gbPCx6doH/uavGPl+4eyYIFCu9bqlCbCTWZlUAAABLQZoFSeEP\n",
              "JlMCTwAAAwAATZLby3ZjiuhVKD1Zjh3fTzeL7CmcMlQJsFL/4HIcDpCENABllYvFq9l8eSqJfa55\n",
              "9F+EudbeRKB/PehYAAAALkGeI0URPCn/Ag1geEgCjoUpQIcBDdPBE++Jwq/p6jURQrGDxJG7Br2B\n",
              "C3DCB9EAAAAgAZ5EakLfAOpeoBcy2/vDuo0ngOw6GarhOJsOAznsJoEAAAGCQZpGSahBaJlMCT8A\n",
              "AAMAACQ/YQm6x6jt9Q//DNWqpOMGbX7zL7Fv+629OmNN4eL0H4x6vwN+fx1RJ+IOvHrRdHFvcs0x\n",
              "bLylVIHOBpLfMmUWwnKbudE5TSH5Y+NyVdFVtJeirG6k1cUM7YVFWn3QNNqcKlYtuHHwy4OVWMIx\n",
              "sqB0heDgYZw7NOZMTj6afxf1KBx3VQOM67v6GngaPpKFmYxdwP03hvje3p3KxFvu11iHnOF4NsU6\n",
              "ifCBRp1Z0ztxDQCU3UAoWG0EZ/jfcaf1aBpBIuVBO24Wyl8MqBw619JTmOCuIR69yykzJqPxIiKH\n",
              "usOyPbsHYZLaK4NLCZLGvXhD5NjJurR9OT0Kjt8SDQe1gkXAPUnjZYGFQttdmjpGMo/pQ0KFWM1B\n",
              "TAIcLWW/3dMVOtdMCLWhQOS2KVAbT0MRHQ44smnK/0S/XhHqMVptEXmrBBMD7qmI0F5Nmafsk8DF\n",
              "Yq85E4l8Jcph1xhNCCxyJ8YcT9PRwDWAetSOlMx9zhkAAAA1QZpnSeEKUmUwJP8AAAMAAAMATn/U\n",
              "I4Hg9Y+TYqiP9GLnPdkoH8pZ66sNHZrUyIOYgY04fuUAAAA8QZqISeEOiZTAk/8AAAMAAAMAjP+y\n",
              "nV75GnrZLyjt1SUjyogDWUqIveiMjmwp97AYXhd8pCFuALBIqXcoAAABhEGaqUnhDyZTAk8AAAMA\n",
              "AAMAW/ycaBR/gqEKuwuX06Kp1lHscLyoGLPlSBPr+pKsmbxhvQV/5YfiD5bEXH3f+caIv87xQe2Y\n",
              "ePqiPRfYFCtE35TEiWSFCOj3WAxdwSIEo9Ia8x7zTjbVK0kVRS4R5Daocyp501yVoY4/fDNUWgqi\n",
              "yhijjKX2EwVuATbujEeu/VddfLc5afJ8ULVSHrDU8WzGnoFDzlNdGEiAzehVmw1C40t8DImJXL+q\n",
              "BACGdZKM93/ey9ui0Q9uUdjICqXnBZhb+Ab3FdT9JyJAK0CzV67uPQICupmEomz3JtMpBvtnSMy7\n",
              "ag5hu4SYWmECze2ddoQF3QkZ7qy5vu3FM+V4aAUAvgZ9x0jOQLux6ExdhKqtCTxC88VavLZQ1KkK\n",
              "X5EqeWx5Ry/gj1K0lzVjrPxLgNlx4crg/h5n57Qe3nCcO9mMjwPoy6ysfjGrm1LAPOUDBOjdm7yg\n",
              "oLJOovO+422GzmI7o72ppwRocjonNx6zgkAAGUeVYGAAAAA3QZrKSeEPJlMCTwAAAwAAAwBb/9hO\n",
              "9QCQGtqOi30PsHhNJYdogxYLvBVOzi7/KOi58DL9J2tRBwAAAZVBmuxJ4Q8mUwURPJ8AAAMAAAMA\n",
              "Tn/YT5Oy27qI2QiH+uygJZM2gOAmB9gm23SRFGMcjpi4+h+oHquQt6l6LE2h4rpGzF5mgcZoywqb\n",
              "1bSi+kKzHUCv1GQdpNT6g1+RJ5P9dnDgmic6I6mLgdAuHnsa8LZFagp3URftXRh28Lbeqv46dOf0\n",
              "Tn17WOZ25b+VLyIQfyTj3LcZAG6tQ8IRS2PAYa+UB3bQCNKXiPe4ijnkZQp2C2caIJqgV4GevSA3\n",
              "oiAptBoTmstB3xngLs093nCclFPyJew+GdMBGHWzelWnkUAAFI229072WrYoON0xNdgJX84Uoq35\n",
              "fIMZwbx60HqsHPpS02R+ctNoIzb/ja4CL/7gBst35PS6jLiuiAJVZA3yR8J+JvoFPa/0SZsKtJxp\n",
              "g2OXrT8UkmGqrcoOrBZ3oO5Hu7EGyyUfxMaOShApCinZmsF4xs5Ryn+UoaaBorfRHQoU+3u87sj1\n",
              "8jUUXXqHTqTWZaD9zuR8MndTo8vLcNnC/AWB80Mdyu7h0VfN+CGz61eXb8AAAAAtAZ8LakLfAh13\n",
              "xCQBxnyAIK8QTrJXJOQQ047mqRuJ4tKP7jZ9SmbM2GiLHr6eAAAANEGbDknhDyZTBTyfAAADAAAD\n",
              "AE2Qw/TPZoG551wAA9vvANAq9niZWM1RCO8ABDIjLsa4pIsAAAAkAZ8takLfAh13xCQBxnyAIK/C\n",
              "KquAsCBy1a0tnUwPL+6dy4NPAAABhEGbL0nhDyZTAk8AAAMAAAMAW/ycaBR/gqEKuwuX06Kp1lHs\n",
              "cLyoGLPlSBPr+pKsmbxhvQV/5YfiD5bEXH3f+caIv87xQe2YePqiPRfYFCtE35TEiWSFCOj3WAxd\n",
              "wSIEo9Ia8x7zTjbVK0kVRS4R5Daocyp501yVoY4/fDNUWgqiyhijjKX2EwVuATbujEeu/VddfLc5\n",
              "afJ8ULVSHrDU8WzGnoFDzlNdGEiAzehVmw1C40t8DImJXL+qBACGdZKM93/ey9ui0Q9uUdjICqXn\n",
              "BZhb+Ab3FdT9JyJAK0CzV67uPQICupmEomz3JtMpBvtnSMy7ag5hu4SYWmECze2ddoQF3QkZ7qy5\n",
              "vu3FM+V4aAUAvgZ9x0jOQLux6ExdhKqtCTxC88VavLZQ1KkKX5EqeWx5Ry/gj1K0lzVjrPxLgNlx\n",
              "4crg/h5n57Qe3nCcO9mMjwPoy6ysfjGrm1LAPOUDBOjdm7ygoLJOovO+422GzmI7o72ppwRocjon\n",
              "Nx6zgkAAGUeVYGEAAAGXQZtQSeEPJlMCTwAAAwAAarfN/e9/GCE3PZR0cYvXAjJLhRlEqb1nmyQq\n",
              "sbmSSW1Valuu6QNH6Q3QG5rWqCJuZpP6OXeFSP2vFxiAZSa4bpBYj+OIim/jFquqZCPINq1vA9ek\n",
              "iqKmoNjqrymlH1JNi00ls7bSd5aF/+uB6T7V3cfH+Kww/N5hpa59bgiRjGVV6ukLRD1PC8ZOYHF4\n",
              "sOZY6XKf0H9pPsrDdxYdbYV6M+asGzyGTuuEyHyX7Ockaa1zkJ8d8t2yt5TRKe//sAUCWabDA0D3\n",
              "VhSj1Inr3qe+UTNKnwlnNa8QtdUXE+Qh0KBXvx/BZMUCZv8uu3Ywe6W7VSYs6apgD7Fvd01B7/Yb\n",
              "bx5Ke382FhiyOXNGVF7oD+LRoEz+z8kcR2AN+6nARj6IgT1VPeJDY6pulFJHz5BfkM0om6GMuP8a\n",
              "GYe0wiITLe7IpysTGTGcyf8Udy2hkOlyisWNCOof1O4d2YcGDhJk2PBp6KrVciFiYW/GzwBiMhvv\n",
              "91GIuAI/k7EJU8Ntv+NK4wE9u6w8HOAAAAA7QZtxSeEPJlMCTwAAAwAAbT/KdFy0ctCtmgHL4hZd\n",
              "MehCpqzHbdiytd9bD1k+uoExGwXsxyVieLnQwdcAAAA8QZuSSeEPJlMCTwAAAwAAaYzOzeQBVgw3\n",
              "A7vSYeZP9e6hle8R4prrP2M2sYxP6ymCiezbYSffEPsUAQJBAAABoEGbtEnhDyZTBRE8nwAAAwA6\n",
              "ngRwhUPiVGByvOCZvz3dfa4z7OhIvksErzzQw8G20euZSudKLHHECc7a/N+/jjsWY00GUYVrkBO6\n",
              "uEG5ewbRADEloRFJ7oGQWaYEl2X5akNlX4ljiTKGwrdGMDdiAMD+6Jfa441LeHY65Ngwlq+LxSJS\n",
              "gxm1FxC2eIKlJ8Can4TxrmTmIUNC0acYL2hxS989Au1Ms3dMCrQ5TbFl7/c3L+A++McqMrXJUgup\n",
              "EOtoQuEzCuTp9p34/tR/cWIu9q9B0QWr5LNHthw2zrYlZjrECG9aVJzZcts7q38+OKc2A7WdK74k\n",
              "n4fG8QRDr+wwY/yEPoA7JzYg/2UEjL23YJk121/KiC49gDLJi1ul7Dp3q9JDKFQqBqYxcVSXhQh7\n",
              "bGU5eUcZfGWH5DC/EbTvmuhrHPR6u/pAhOfF26/K8J96xEJCChrMu/Z+xWXPzpfPIEHlwlVuGa4f\n",
              "yj2K+FcHoqxvPKNumeZ11LmN0vF2OlIXyMcuwBgg1qLaS6SbQrGvhcyyMdJQQAwqBHMBmFXOy4eA\n",
              "AAAALAGf02pC3wIdd8QnDUtrbiXAsZUt5RvoqEnKnqdPRDaekEqnaxg1fbcTs8HNAAABf0Gb1knh\n",
              "DyZTBTyfAAAfpNr9WpoKtUlKIkjvoOHI3wrLZ6Si3rC/xa531qkdrRRpFyxoKxjmIJ/40Xc9ZPM3\n",
              "CC+jhDkIpvr3Wn4wOi3QuRsuybrMycza/kASbrKrjY5wx0mfVuTc/BRSzGpnv9VRItmnSsXL+Mth\n",
              "wkYQWmWkXGp6/MkA1A7O0K0lUt2Edv/L4xPNtJoNSA0MP5zX+v94ERxT0MHF95deLrsyAiJjxeD9\n",
              "hso9W/23hJ+4BzQqcLEhrH2bJwUqKCcgTIoRRtocwNVvFZ5qtVdubU3LCTf9nXdKECjNrYpGBvgH\n",
              "LM+j11GkC1OKVeTiK6odCq4MCdrGkGJJ1ucXTO/3vQnvFBRwJR71gyuPu3s/btQ9m8J2baP6Teln\n",
              "qyQISMzVb9JYHQ448FgKgtoxLL37gAA5BU+yYQfDEFvGKnYLziL45xGZEVN18m0lWhUjanW53ihR\n",
              "wCV5aZovjfTAA1tI6qTShIRyjxrEoqtvSn8OQaV18jCBNCRhAAAAKQGf9WpC3wIdd8XEjREI2jIG\n",
              "Yy0OydHrErdX0ir61Wxso9FdsmA19YxYAAAAQ0Gb90nhDyZTAk8AACA/7Cd6gDeh3nOjtKreYwlF\n",
              "snqpL9kq1ko9GRXqp0TNDf7fLReuEUnjsZfxRpBBoOYJAWqmxa8AAAGVQZoYSeEPJlMCTwAAAwA5\n",
              "7VHLhLUoyaXmIwNND6OcOg/i/mSBEQ9u/jBCbnso6OLMxJx+pOVmV96zzZIVWNzJJLaqtS3XdIGj\n",
              "9IboDc1rVBE3KtZ/qJy6dhiJi4xAMpNcN0gsR/HERTfxi1XVMhHkG1a3gete0bGo7IFtV5TSj6km\n",
              "xaaS2dtpO8tC//XA4qgExgwjjJvrtt7lW4ZeORI8ESMYyqvV0haIep4XjJyzSHOv7D1C3gqdSGVG\n",
              "zuoCQ1l1L0Z81YNnkL3RULhhGJ2VHkAYaFz+DmSh70JnNp/0o2Q29IisBSqKvvCOeTiGglhbRyiY\n",
              "OuF8g/LGbLvHsOP7+VbjDwWTFAmb/Lrt2MHulu1UipnhANEjjWBe5RK87wUhmtn+LLDFkcuaMqL3\n",
              "RBf1XjKLXguOvK4CADJOhJJCw43A2iSGx1TdKKSRNyC/IUdKb7egv8/KeBcsgmXlTIpysTGTKPKf\n",
              "9Pmu31H/dGWE936xUP6ncPDDOADYS10ex9b5EJKsa8YjIb7/dRiLgCPojR3GPyQhAAAAPEGaOknh\n",
              "DyZTBRE8nwAAAwA6kmA6sXH4u6/XnA3Zwy/jiuQkJgAW7rFPv86G7b31WzaYIjuk5X2b8zC/gAAA\n",
              "ACMBnllqQt8CHXfEJvEcRr0bTJb1cM+3T6787Bo2s5pYL8CpgQAAAE1BmlxJ4Q8mUwU8nwAAAwA6\n",
              "n9zgD+4T12ejFO1UzQfQwUKl58+7k1+38YITc9lHRxZfosDB/5YKiP4CRgUZULsekg4QmmE2qRpY\n",
              "Ho6fgAAAACMBnntqQt8CHXfEJvEcRIFKF0XSoVPRq7mYwSOmfZ0CUTgJOQAAAYhBmn1J4Q8mUwJP\n",
              "AAADAABqv8uQX33tbSQhznZ3cOryP3kZ6MMJ80v9VKhV2Fy+nRVOso9jheVAxZ8qQJ9fOe6xFAkP\n",
              "Ygr/yw/EHy2IuPu/840Rf53ig9sw8fVEei+wKFaJh+1r29BQjo91gMXcEiBKPSGr3BB5B0QTDIqi\n",
              "lwjyG1Q5lTzprkrQxx+97YdIhFG755fkEo80Yj136rrr5bnLT5PihaqQ9Yani06g9AoecprowkQG\n",
              "bY0W7rMb06ihODqsozasQAhnWSjHklB0PHRaIe3KOxkBVLzgskLL9pvc4kArQLNXru49AgK6mYSi\n",
              "bPcm/x0+DuFNzK2LljggwbDFOerSzS+z+qPb8BPdWXN924pnyu+zQD/CpGcgXdj0Ji7CVVaEniF5\n",
              "4q1eWyhqhfgWBgt0QXlHL+CPUrSXNWOs/EuA2XHhyuD+HmfntB75GkFYVjusK9I8wc4aaaubUss8\n",
              "40ME6N2bvKCgsk6i877jbYbOYjujvamnBGhyOic3HrOCxzzl3Rr1BwAAAXlBmp5J4Q8mUwJPAAAD\n",
              "AAADAFv/2E+SXT5+hVaqk4wZtfvMvsW/7rb06jr/xaJZKvHq/A35/HVEn4g68etF0cW9yzTFsvKV\n",
              "Ugc4Gkt8yZRbCcql6nbI1Iflj43JV0VW0l9UHbqTVjpnbCoq0+6BptThUrFtw4+GXByqxg8G6pd0\n",
              "BXLDOHZ5cG9erTT+L+pQOO6qBxnXd/Q08DR9JQszQLuB+m8N8b29O5WZ22rtYh5lSADbFOonwgUa\n",
              "dWdM7cQ0AlN1AKFhtBGf433eMMgGnTJ7eQTtuFspfDKgcOtfSU5jgriEevcsnPgyJ8SH3j3WHZHt\n",
              "2DsMltFcGlhMljXrwibdAccEO1rJ6FR2+JBoPawSLgHqTxsbOaCardmjpGMo/pQ0KFWM1BTAIcLW\n",
              "W/3dMVEVhBmNrQoHJbFKgNp6GIjoccWTTlf5dPsT2mMVptEXmrBBMD7qmI0F5Nmafsk8DFYq85E4\n",
              "l8Jcph1xhHqXLJZ8YcT9PRwDWhkqYAAAADlBmr9J4Q8mUwJPAAADAAADAFrk33xDEtv/UCFxQEkI\n",
              "hgblEpxe7HECUVSzw3/q2PiZei0BldleNQYAAABGQZrBSeEPJlMFETyfAAAYaiHLXwABnf8nDkZM\n",
              "k0eBRO8JIJ/W9J73B1cQlRHz7Igmg5ScVDes20wygDSg0gqAVlxjHNKY3QAAACsBnuBqQt8CHXfE\n",
              "JIU5INXZblu0HUyXg3G44cXJTn4vSAhCivh5pog9bwOwAAAAR0Ga5UnhDyZTAk8AAAMAAAMAWuTj\n",
              "d9upm3Bb/ynPbJDmUGuHqAcnfABzCC8/7OtoeLPqwRZZMYRpRZyyfLu1x0C08E2ERZ/PAAAAO0Gf\n",
              "A0URPCX/Aebzb2RrurgTNEDWUCR6yRyA+R+/5w+qq6DRf76PgDJVXKY/h9GLmmDG+BH5wriA3leg\n",
              "AAAAHgGfInRC3wDsjxgVQATRriYqko53ogSSz4OpRiVE+wAAABkBnyRqQt8A6l6gFy8DXAtJC8Yl\n",
              "+vwCO5OBAAABmkGbJ0moQWiZTBTyfwAAAwAAarfN/e9/GCE3PZR0cYvXAjJLhRlEqb1nmyQqsbmS\n",
              "SW1Valuu6QNH6Q3QG5rWqCJuZpP6OXeFSP2vFxiAZSa4bpBYj+OIim/jFquqZCPINq1vA9ekiqKm\n",
              "oNjqrymlH1JNi00ls7bSd5aF/+uB6T7V3cfH+Kww/N5hpa59bgiRjGVV6ukLRD1PC8ZOYHF4sOZY\n",
              "6XKf0H9pPsrDdxYdbYV6M+asGzyGTuuEyHyX7Ockaa1zkJ8d8t2yt5TRKe//sAUCWabDA0D3VhSj\n",
              "1Inr3qe+UTNKnwlnNa8QtdUXE+Qh0KBXvx/BZMUCZv8uu3Ywe6W7VSYs6apgD7Fvd01B7/Ybbx5K\n",
              "e382FhiyOXNGVF7oD+LRoEz+z8kcR2AN+6nARj6IgT1VPeJDY6pulFJHz5BfkM0om6GMuP8aGYe0\n",
              "wiITLe7IpysTGTGcyf8Udy2hkOlyisWNCOof1O4d2YcGDhJk2PBp6KrVciFiYW/GzwBiMhvv91GI\n",
              "uAI/lSYd88W4KfxfDd/SNrm6TmfBAAAAKQGfRmpC3wIdd8QkhsEWJORdD5hKjG2t40Gj7eRBBN3K\n",
              "HDM2XoplLvqRAAAAOEGbSknhClJlMCT/AAADAABtP8p0XLRy0K2aAcviFl0x6EKmrMdt2Pa6D4IQ\n",
              "kD8lDC49wCHdL8zQAAAAKEGfaEU0TCn/Ag1geEhVc1YNhmOA5eRhRQQ3YknAe5Xhs1yPrIBdVm4A\n",
              "AAAXAZ+JakLfAOpeoBcvB/oUs0HsO217BH0AAAGCQZuNSahBaJlMCT8AAAMAAAMDv/5b7/gMwMZZ\n",
              "g1ZrGI1ZJZtfvMvsW/7rb06fEkRaJZyTHq/A35/HVEn4g68etF0cW9yzTFsvKVUgc4Gkt8yZRbCc\n",
              "qIqGVtNIflj43JV0VW0l7GNa6IExQzthUVafdA02pwqVi24cfDLg5VYwbJaFBZbcMM4dnnJ716tN\n",
              "P4v6lA47qoHGdd39DTwNH0lCzNAu4H6bw3xvb07lQ2rcu1iHm2B2ydnGSfCBRp1Z0ztxDQCU3UAo\n",
              "WG0EZ/jfccAAhCETsYojNALZS+GVA4da+kpzHBXEI9e5ZU0anX4kWvHusOyPbsHYZLaK4NLCZLGv\n",
              "XhD8Glk83akAvQqO3xINB7WCRcA9SeNj9zQTVbs0dIxlH9KGhQqxmoKYBDhay3+7pio8sIM6daFA\n",
              "5LYpUBtPQxEdDjiyacr/Np9o+0xitNoi81YIJgfdUxGgvJszT9kngYrFXnInEvhLlMOuMJJW5ZLP\n",
              "jDifp6OAayLiAcKSov8nPfwAAAA2QZ+rRREsKf8CDWB4SFVzUqSgNI3iJSw5gD7r8shGIfBPXKwb\n",
              "XJbBdy57PCejN8Pwu4TdKQ6gAAAAHQGfzGpC3wDqXqAAhje5IFBGQAxIuHkRTJGM/KsnAAAAOUGb\n",
              "z0moQWyZTBRMnwAAAwAAAwBa73fTOiH0sx+0AeuJ5qlzgz8T0xsqEgFRblj0kPzA30AuFJgxHwAA\n",
              "ACYBn+5qQt8CHXfEJAHEtmgC9O2D6UYvHd0ONLI7UqG0K+Wk/Kz50QAAAdBBm/NJ4QpSZTAk/wAA\n",
              "AwAAarfPb6v2/jBC3MbQzI71YofvXAjJLtHiNrW710sOnvtBg8fXhBU3kCRgC/MuNODTWYKN5Kwi\n",
              "ktRYHWgCto6+hZU5jxb68MDbUnzb9nD/LnRS2AVmnxIpPibn6qadb8e0imBOxp2XB9F9u0LEAK4n\n",
              "aNllczFzYFxx2i2QOMPLQiMaAPeDX0TXNndSWcV0yB0qSrn2PtGZxJTfoXYdOJaELP7MLt1kxHG4\n",
              "9/XIIA1ysoubtY15wj6X2Nc3koNhdS1f1asGRuWiVszw4voqzpu8My9RMDkrelw/C/fmO4KnAgXo\n",
              "jDgg/9DR8nuglfLOC1XRVnNLcTebuxifGUVmMNm/UZAtGlo4vKxdkBQERAYVAYNNMcHml8IFCOGR\n",
              "VtGLCpd05WHF5jkos7TEHaI0SIL3hD/IXdFK6YfHBjp03MekvhBqr0IABVw3mQJz0VLwYU3zYWNQ\n",
              "4S9hMpyEHObgFQqiZBMykG53t+S64uOnc1jetNNRg9mEe8EKq2Y1WNRGz6F2zfnNIxHky0TOmqs1\n",
              "LNVLBgvZYCrU2mrCW7LZESSS/+BnNnzYZY9DOfAlP1jmabbknYdsVAvl7PqGAOE3GMsPwAAAADhB\n",
              "nhFFNEwl/wHm829ka7q3cnnAPEVVQhZE6c4bQG44crzEtq1VUMqjQYwjYwUFtd0mphPmDTKDgAAA\n",
              "AB8BnjB0Qt8A7I8YHBM14ZU/txeqBB48dVApyhqsxIpJAAAAFwGeMmpC3wDqXqAM41oXEFj5hKRw\n",
              "bx+AAAAAPUGaNUmoQWiZTBTyfwAAAwAAar+5wCXZQr9rVW34NIYVn4EuAlovxR1TR4zPjnwZNKRW\n",
              "YwDMj6nJy/W7f8AAAAAoAZ5UakLfAh13xCSGwRVzGkxUCBbDInTjNRxotCdDl5TLLTHeBOH0wQAA\n",
              "AXhBmlZJ4QpSZTAk/wAAAwAAAwBb/9hPk7QIiP1aqk4wZtfvMvsW/7rb06jr/xaJZyPHq/A35/HV\n",
              "En4g68etF0cW9yzTFsvKVUgc4Gkt8yZRbCcql6nWdNIflj43JV0VW0l9UHbqTVvMFbCoq0+6BptT\n",
              "hUrFtw4+GXByqxg8Gyd+6g5YZw7POT3r1aafxf1KBx3VQOM67v6GngaPpKFmaBdwP03hvje3p3Kz\n",
              "O3HLrEPNsDtk7OMk+ECjTqzpnbiGgEpuoBQsNoIz/G+54ABS1e6DSaM0AtlL4ZUDh1r6SnMcFcQj\n",
              "17llryZ96iRa8e6w7I9uwdhktorg0sJksa9eERQbar7jaYk9Co7fEg0HtYJFwD1J42QY7R1wuzR0\n",
              "jGUf0oaFCrGagpgEOFrLf7umKkkwgzp1oUDktilQG09DER0OOLJpyv82n2j7TGK02iLzVggmB91T\n",
              "EaC8mzNP2SeBisVecicS+EuUw64wkmrlks+MOJ+no4BrQyVMAAAAM0Gad0nhDomUwJP/AAADAAAD\n",
              "AFrkw/TRv+LCE7viQAABlxBT0ueNvlL9820AFFa/VsO8QwAAAY1BmphJ4Q8mUwJPAAADAABqt839\n",
              "738YITc9lHRxi9cCMkuFGUSpvWebJCqxuZJJbVVqW67pA0fpDdAbmtaoIm5mk/o5d4VI/a8XGIBl\n",
              "JrhukFiP44iKb+MWq6pkI8g2rW8D16SKoqag2OqvKaUfUk2LTSWzttJ3loX/64HpPtXdx8cZN9dt\n",
              "vcq3DLxyJHgiRjGVV6ukLRD1PC8ZOYHF4sOZY4KGvlTSg6srDdxYdbYV6M+asGzyGTuuEyHyX7Oc\n",
              "kaavjb/g5koe9CZzaf9KNkPlWr1i+l5b3hHPJxDQSwto5RM0g5L2WiC8S7x7Dj+/lW4w8FkxQJm/\n",
              "y67djB7pbtVJisgtv6Es5T//FErzvBSGa2f4ssMWRy5oyovdAfhZeMoteC468rgIWbidCPEtC43A\n",
              "2iSGx1TdKKSPnyC/IT22r7egv8/KeBcsgmXlTIpysTGTGcyf8SAIX1H/dGWE936xUP6ncO/7D+sk\n",
              "S10ex9b5EJKsa8YjIb7/dRiLgCP5Ow7ZfjZwADbAuTiYxi1VAAAANkGauknhDyZTBRE83wAAAwAA\n",
              "2P6G3keMLPLxl5kSo0tJMDvMQraEycgJYAAC8lfuO0BEurVr1QAAACUBntlqQt8CHXfEJIU5IC+x\n",
              "WuS0pEiYn55K3/m6D3apXoxhYEs3AAABhUGa20nhDyZTAm8AAAMAAAMAtn65HDC/dtVodx+JQZfZ\n",
              "u57KftBVDf9FCwdCsauyIa2tdjMyi722xe0h1w95uv1FjxawTGmLSP7SZYr/mTeOWj5TXt6HdDS4\n",
              "2pywhT2df84nvY6mZoI1nj0O2ZapyH38EX8hFF68/R5oDRazorh0DZCbqpLHh2fZFJFuEl8zBBuV\n",
              "oDy7+1cFJ7vkTSVQlgu4SJuyZmUKMXD8e7uusQ82x4e8kowiHfROU16NE2Bz9Cwsdee2U+aISjdz\n",
              "wACmXKBBJS6u5jQnP2gbIFOgNNlh8K1xHsQaQjOY3eRUodulcOna4sFSFqwlW0NfqV9WXIYTXtWM\n",
              "mDgu6KOnmPtOfdUxVHh5zzzCoW2u2teVg4xGMsSlHA1wTUVsfn/Z1TwoootghXghKFHA4FHcKE1N\n",
              "UNAqfIVbn8K/DZ3NgB0mRYHFu8R/i0E2ZIa7rllM14eF3DyEMqlLkiRGyq9Evs/TCc8S0bxEEG3c\n",
              "ZSi90sFe5yY4rgEn1y2wAAABkEGa/UnhDyZTBRE83wAAAwAAAwCbfutQxC+h7r++b95PPx8CjqIg\n",
              "R9Ws+wTZNTEimqa1Ky7whX0VygQp7z+7BSfvoPI31WBuQyYUwJ/etZhtFgJmm8k4XrjvxTQC+CHC\n",
              "p0xfzMCKGTvi10Sbe/sR0jYpiHO2B0yWSoYw9zn/fE13to4t+v26InBjieaTNsDkP6Po0au3lBAD\n",
              "bH7yHouIWa/cj0FetR/UvXFb6WaOeN60jgW5/LP33Ck9hTDsXieDGtrvbh8Ccl9UM65/0du4o64Y\n",
              "QsdjtPgFLACUTTkd2AAtnvoBt6ULCczAPN0r8dVXqdqCZ33CD7FM/FYg9pVQLulw2v5m82pFpSDl\n",
              "YWUhHlaA+1fq2GJIwCJ06jsRrK/4DSXng/Z0t8cSPRbT/rCh59vJg/skQqPSDT8rqDw1U0OLXtPX\n",
              "p1ZIfwy6wy4yS9cuhZ+390fMs13zkd7dak+vr5n20NSqBzwUqV89+nCiNpZZxCO7nh5v1H5Zfu+0\n",
              "EcyHeuCjbT3TauRmPQya9F0QBXMAAAAvAZ8cakLfAh13xCSFOQrU8QDaXYa2UZurrY94GchkOYp5\n",
              "uwJ7wCx2R+DVO9Rlu+EAAABAQZsASeEPJlMCI/8AAAMAAAMBI53B6m+SGBD8LoUq3ixFDVOb0TJ2\n",
              "c1PLViI2rDwccK1wJyv/R585RUOmLKNGgAAAAC9Bnz5FETwp/wINYHhIVXNMpn6ge/3mIBT2zh0A\n",
              "QHLiri0tvaFwdzKgWuIsU+IfMAAAABwBn19qQt8A6l6gFy8BUirLItpuNY1AC0NUtY85AAAAREGb\n",
              "QUmoQWiZTAiPAAADAAADASb91YUS+eWU39wamozJBb9RDwnGUUGvp/OgkJBLQyhas0CnRyvovhhw\n",
              "zWhGliKYLPlaAAABo0GbYknhClJlMCI/AAADAAEm5vCYJwDD+DJZlS9CPjRVflWy1/rpJqdwb8ZN\n",
              "oz8TmAoqk3UnuR8N0fvv3reKnP1G9oUCISTiTtt9xH7rGuR/S1y55hDNHGTzzhjZG1nawTlnKr2t\n",
              "Tlo652uuIw2Q9XjE0xdT+D+x+6PCeQhEv4fDh/JYZW5hYeZoZhV7e3Ip5+ondqXY1gOPoUdqejpP\n",
              "9450ajWVdqKbNYcOZFneMBw7l4fsn/njsiLycm8GFuAy/ASTIi6aa/eTr6HkAFzznplOwy3UpvOz\n",
              "TOI8N2BGe+aeC8dkILkzmY2rRzTg2EUKi2Q58qV/cQbKknyLde2AcnqS7GEyeK267H8JOt7/0QGB\n",
              "IsGSQGHwQnaj/RgL07RaH5OETDSF7DhXr8Nunp0wOphKBAxWPeXS/rCV0eVOyvrLI7JNpYM3W2iK\n",
              "Fbrg+rBCiuKElxum4mvAZYCS9b1NscV73zLfFQ7c3jtfibli4X25kVvxA1kSVMSEaXD82d5KeL6m\n",
              "i8eVlDu5DsCV81CB0v4LbHt1YPuDskAGeAJYGwdL3x/xAAABokGbg0nhDomUwIr/AAADAAKj7EPJ\n",
              "1pqRRcDLD4Nf5lS+OM22/GIPPs5dvR+I7cLU9pAB/YA56IXW11TVuNdpvRbCdq3S2o+wJ1zcrvYk\n",
              "D/do3kfuZEmYj9BcZCIFaMKkaw/VnAgtPEM7lrcCRZXeztDrGYI2CG8Pyp6u5xYikjSLpIUTJmJY\n",
              "zrpVZFv1/o+mqNTsgEAl+C2xk909wZa11SxpmDWK1G//4STeVqodVkvQIz5v7jFyjAL1bzuJxIhX\n",
              "RYSktbcHHMj88mqCUzvMRdPhvGomqfJc8x5IRJrq+vURsCGfGnbHxPdDIocpWnMZEW9wQevv9VCG\n",
              "oxtP8X7WLT2sMBIhop1oWk9nWo7WLde27nHgYLQxaxlnonM/ELAemCwiXfNjR4HFG/SkUYR4c0Iw\n",
              "Ek545Bo1Ze3nBArW4tng7MnuWlJvt38mvc3tMqeHFhM7tK5HSoRy9KRbwrrl989tVWV35rbTRF9t\n",
              "Xf69fvU5xz6w/FiKSv/uSdGf/rPnFIQeuoTnw8+TbD9+/WhifRI3w/rUjtdNSQgFbvauvl0x+ZcA\n",
              "AAA8QZukSeEPJlMCK/8AAAMAAopbIe6/yNVkTOBMFGBTqVTldiFXk5LzsjareLPjYu3s1EWmuxyn\n",
              "SCERF8ApAAAAQkGbxUnhDyZTAiv/AAADAAKh6YFv6BAaS+1DsamZ6t3rn7/9e4HFg1PWh2V+CGAg\n",
              "JYkO40YIpGMpDe3hsTlsYZuXMQAAAaJBm+hJ4Q8mUwI7/wAAAwAGSzfTvavoko8nIyEe62nTlVPT\n",
              "AcmOy8eLit9F90z7lvnGCiw5kawDF8DLjM5org9ZdBQ3Ii9F1L7M4SGrW13cjob85YRXRwnQWvEU\n",
              "oLGdhxADV2GlQpOsiL6NKS+TaSRuABW5enVKyI+gfrWxlE3kXQTpJV0lbfLRE4Ad2/P0rRMTx1v5\n",
              "8BSCWqdiG8WlNr+OHDOVhfeyo32LZU9i+tcupblzqnrGz9jJJ3LTKW8sLw4yAm2jMQfV6d30MQsk\n",
              "lBjGku1D3COMTWu+6FZDQcb4a+CZk1OLtLOrCCHQY0DPuXdGAA5fCImYR18qzYISjCc9Nxj2+QWZ\n",
              "iqQOpXXwLsSGnF8/OtOcMF5z9ud4NWNLvRUUqyxZKWsefEMXPJyJNKZC6sv7tc7VfwFLljyoK2/6\n",
              "ILDsqSgpM4i8hUyP1kF5YZnGw5dpZnwRTt1/XQqXIUy28FWY6EQRmHcg49Smskms8pY/jpyXbkrZ\n",
              "6M9YUcQzo5ToaWy+bdksnv2Gqvg4wxuNmjGz3voASRV1WARv0Uwo10zBAAAAOkGeBkURPCn/Ag1g\n",
              "eEhVc1Cm4sAKSCH5o7uedXUIyc2sM8vSerwQiXs4sBKBtRErUPt1V2BJnDeeftsAAAAXAZ4nakLf\n",
              "AOpeoBCSc0OmctM57H3VMh4AAAA6QZopSahBaJlMCEP/AAADAAc36/xvIKRVAk2maWcxOJdWTVhW\n",
              "ta6roRHTGzL/Fhmffpq5x9YRS4+5gAAAAYVBmkpJ4QpSZTAhLwAAAwAM71wHpfGP1jb8t9kvhMzs\n",
              "c+3BUnoi/VZ3nn/ZrM9V8TwfyV+7CHmUq3dY0bsSlC9vgID3BOn6AP/L+uKIFO7sWCvVEU1g4rKk\n",
              "OiVYkKdOZsuHcGqkiQr+Hg48c0NOUb6Wzv8vffCtLcQLcmL8/W1iI9kIroKGkVXi3v2aTvGK8Biz\n",
              "y6YK5V9lMjq7100NEK/3pPMYNuKfhLv0JBUC9OFm2/Z1wtfB8OCu0QAcMchht8mQbMA6jcqEW+nS\n",
              "VrDSrrBoC+FDM2+xI2WB+oqTU2ii6zP/BKQKgRgNfZgzora4CIk2YqdemB7LzKmP8GmDFFNGQfOW\n",
              "GAWBq4qBrZVu1icD4V6pHB33NAz+SzbufVUVpvJd5wdYJoEOv646k47ABxrr41laerBcMysb1nBB\n",
              "WXLm01eeLzsD/KvF37tlU/ZU8O38e3sCGlpl2yR55074+H9tzGHpE5ZVcy31w+CI76Vm/o51zqzJ\n",
              "YNY1FGYjKSLyo1gceARUZwAAAWRBmmtJ4Q6JlMCFvwAAAwAAEEcUuDqcznXBwP+EGHKJnK3G8bU+\n",
              "hUDmjLeZdyViN9BBTkTwC8mKt+NOSyXzt4OTxtWNJCEg4ks5UkKOJ5kBHKDxurwflN2M4N53P2Zk\n",
              "juNpTvW2LlImHZTYgzvp4bZFyw1P8HktjOnEYBB63X16L2Co3SUAkAfqZJ1M0QhNuZWUFJB9Ohg3\n",
              "SHLQPYRfH5dSsV6jTNJwPJGVTrDUdgnFtPjm3pPC+sL4pUe5aT0edY6cKFivrH1mlABMfs7D7xqC\n",
              "Kfs0Zmwf2mn23ybLh9QsLZD/Lll8QLsfzeP1J9zO1fFolQ+YrgjtsP5fxqvH5jTUFVCWwOTviTR2\n",
              "6zGPmo5R0DHtjCgcp3x/0GHFGvj6P1ZYbb8bVhGBfQWSfD33RBOSfPCMEoOWFfLdDtHoQzEcFugv\n",
              "IsIwZgI0G9/3ULnQOry47dylHPnKQNYY557W58mp5ItSGAAADExtb292AAAAbG12aGQAAAAAAAAA\n",
              "AAAAAAAAAAPoAAAuGAABAAABAAAAAAAAAAAAAAAAAQAAAAAAAAAAAAAAAAAAAAEAAAAAAAAAAAAA\n",
              "AAAAAEAAAAAAAAAAAAAAAAAAAAAAAAAAAAAAAAAAAAAAAAACAAALdnRyYWsAAABcdGtoZAAAAAMA\n",
              "AAAAAAAAAAAAAAEAAAAAAAAuGAAAAAAAAAAAAAAAAAAAAAAAAQAAAAAAAAAAAAAAAAAAAAEAAAAA\n",
              "AAAAAAAAAAAAAEAAAAAB9AAAAfQAAAAAACRlZHRzAAAAHGVsc3QAAAAAAAAAAQAALhgAAAQAAAEA\n",
              "AAAACu5tZGlhAAAAIG1kaGQAAAAAAAAAAAAAAAAAACgAAAHYAFXEAAAAAAAtaGRscgAAAAAAAAAA\n",
              "dmlkZQAAAAAAAAAAAAAAAFZpZGVvSGFuZGxlcgAAAAqZbWluZgAAABR2bWhkAAAAAQAAAAAAAAAA\n",
              "AAAAJGRpbmYAAAAcZHJlZgAAAAAAAAABAAAADHVybCAAAAABAAAKWXN0YmwAAAC5c3RzZAAAAAAA\n",
              "AAABAAAAqWF2YzEAAAAAAAAAAQAAAAAAAAAAAAAAAAAAAAAB9AH0AEgAAABIAAAAAAAAAAEAAAAA\n",
              "AAAAAAAAAAAAAAAAAAAAAAAAAAAAAAAAAAAAAAAY//8AAAA3YXZjQwFkAB7/4QAaZ2QAHqzZQIAQ\n",
              "eeeEAAADAAQAAAMAoDxYtlgBAAZo6+PLIsD9+PgAAAAAHHV1aWRraEDyXyRPxbo5pRvPAyPzAAAA\n",
              "AAAAABhzdHRzAAAAAAAAAAEAAADsAAACAAAAABRzdHNzAAAAAAAAAAEAAAABAAAFeGN0dHMAAAAA\n",
              "AAAArQAAAAEAAAQAAAAAAQAABgAAAAABAAACAAAAAAYAAAQAAAAAAQAACAAAAAACAAACAAAAAAEA\n",
              "AAYAAAAAAQAAAgAAAAAEAAAEAAAAAAEAAAoAAAAAAQAABAAAAAABAAAAAAAAAAEAAAIAAAAAAQAA\n",
              "BAAAAAABAAAKAAAAAAEAAAQAAAAAAQAAAAAAAAABAAACAAAAAAIAAAQAAAAAAQAACgAAAAABAAAE\n",
              "AAAAAAEAAAAAAAAAAQAAAgAAAAABAAAGAAAAAAEAAAIAAAAAAQAABAAAAAABAAAKAAAAAAEAAAQA\n",
              "AAAAAQAAAAAAAAABAAACAAAAAAEAAAYAAAAAAQAAAgAAAAADAAAEAAAAAAEAAAoAAAAAAQAABAAA\n",
              "AAABAAAAAAAAAAEAAAIAAAAAAQAACAAAAAACAAACAAAAAAQAAAQAAAAAAQAACAAAAAACAAACAAAA\n",
              "AAEAAAgAAAAAAgAAAgAAAAABAAAKAAAAAAEAAAQAAAAAAQAAAAAAAAABAAACAAAAAAEAAAgAAAAA\n",
              "AgAAAgAAAAABAAAIAAAAAAIAAAIAAAAAAQAABgAAAAABAAACAAAAAAEAAAgAAAAAAgAAAgAAAAAB\n",
              "AAAIAAAAAAIAAAIAAAAABQAABAAAAAABAAAGAAAAAAEAAAIAAAAAAQAACAAAAAACAAACAAAAAAEA\n",
              "AAoAAAAAAQAABAAAAAABAAAAAAAAAAEAAAIAAAAAAQAACgAAAAABAAAEAAAAAAEAAAAAAAAAAQAA\n",
              "AgAAAAABAAAEAAAAAAEAAAYAAAAAAQAAAgAAAAABAAAEAAAAAAEAAAYAAAAAAQAAAgAAAAACAAAE\n",
              "AAAAAAEAAAYAAAAAAQAAAgAAAAABAAAEAAAAAAEAAAYAAAAAAQAAAgAAAAABAAAGAAAAAAEAAAIA\n",
              "AAAAAQAABgAAAAABAAACAAAAAAEAAAQAAAAAAQAABgAAAAABAAACAAAAAAIAAAQAAAAAAQAABgAA\n",
              "AAABAAACAAAAAAMAAAQAAAAAAQAACAAAAAACAAACAAAAAAEAAAgAAAAAAgAAAgAAAAABAAAGAAAA\n",
              "AAEAAAIAAAAAAQAACgAAAAABAAAEAAAAAAEAAAAAAAAAAQAAAgAAAAABAAAEAAAAAAEAAAgAAAAA\n",
              "AgAAAgAAAAABAAAEAAAAAAEAAAoAAAAAAQAABAAAAAABAAAAAAAAAAEAAAIAAAAAAQAACAAAAAAC\n",
              "AAACAAAAAAMAAAQAAAAAAQAABgAAAAABAAACAAAAAAIAAAQAAAAAAQAACgAAAAABAAAEAAAAAAEA\n",
              "AAAAAAAAAQAAAgAAAAADAAAEAAAAAAEAAAgAAAAAAgAAAgAAAAAFAAAEAAAAAAEAAAYAAAAAAQAA\n",
              "AgAAAAABAAAGAAAAAAEAAAIAAAAABAAABAAAAAABAAAGAAAAAAEAAAIAAAAAAQAABgAAAAABAAAC\n",
              "AAAAAAIAAAQAAAAAAQAABgAAAAABAAACAAAAAAEAAAYAAAAAAQAAAgAAAAADAAAEAAAAAAEAAAYA\n",
              "AAAAAQAAAgAAAAABAAAKAAAAAAEAAAQAAAAAAQAAAAAAAAABAAACAAAAAAEAAAYAAAAAAQAAAgAA\n",
              "AAABAAAIAAAAAAIAAAIAAAAAAQAACAAAAAACAAACAAAAAAEAAAYAAAAAAQAAAgAAAAABAAAKAAAA\n",
              "AAEAAAQAAAAAAQAAAAAAAAABAAACAAAAAAEAAAYAAAAAAQAAAgAAAAADAAAEAAAAAAEAAAYAAAAA\n",
              "AQAAAgAAAAABAAAEAAAAAAEAAAYAAAAAAQAAAgAAAAABAAAIAAAAAAIAAAIAAAAABQAABAAAAAAB\n",
              "AAAIAAAAAAIAAAIAAAAAAwAABAAAAAAcc3RzYwAAAAAAAAABAAAAAQAAAOwAAAABAAADxHN0c3oA\n",
              "AAAAAAAAAAAAAOwAAAgzAAABkwAAADwAAAGkAAAARgAAAZYAAAGPAAABiwAAADsAAAGOAAAAOgAA\n",
              "ACcAAAA7AAAAKAAAAYYAAAA2AAABkQAAAEYAAAGBAAAAQwAAACMAAAAeAAABpQAAAbAAAABIAAAA\n",
              "KwAAACUAAABGAAAAPAAAAd8AAAA0AAAAJwAAABwAAABBAAAALAAAAaYAAAHOAAAAQAAAACoAAAAh\n",
              "AAAARQAAADEAAAA+AAABjQAAAD0AAAIMAAAAMQAAACcAAAAcAAABrQAAAC4AAAAkAAAAOQAAAD4A\n",
              "AAGfAAAAQwAAAD8AAAAqAAAAGQAAAE0AAAAxAAAAGwAAAhIAAAA1AAAAJQAAABsAAAF+AAAAMAAA\n",
              "ACcAAAA6AAAAKgAAABsAAAGuAAAAMgAAADkAAAAqAAAAGAAAAEEAAAA0AAAAHgAAADwAAAF8AAAB\n",
              "jgAAAYoAAAF6AAAAPQAAACgAAAA9AAAANgAAACEAAAIpAAAAMQAAACkAAAAiAAAAOQAAADEAAAAl\n",
              "AAAAKgAAAYgAAAGRAAAAKwAAAD0AAAF6AAAAKQAAADYAAAA8AAAANQAAACMAAAGOAAABkwAAAC8A\n",
              "AAA8AAAAJAAAAYgAAAApAAAAMwAAAZEAAAAtAAAAMwAAAD8AAAA3AAAAIgAAADUAAAF/AAABiQAA\n",
              "AXgAAAAyAAAAHgAAAaEAAAA+AAAAJQAAAEIAAAAsAAAAPgAAADQAAAAnAAAAHQAAAZcAAAGIAAAA\n",
              "OQAAACIAAABDAAABoQAAAEYAAAApAAAAJwAAAE0AAAA1AAAAGgAAAYgAAAF+AAABmAAAAEMAAAAp\n",
              "AAABiAAAAEQAAAA9AAAASwAAACAAAAAbAAAAPgAAAZEAAAGoAAAATwAAADIAAAAkAAABhgAAADkA\n",
              "AABAAAABiAAAADsAAAGZAAAAMQAAADgAAAAoAAABiAAAAZsAAAA/AAAAQAAAAaQAAAAwAAABgwAA\n",
              "AC0AAABHAAABmQAAAEAAAAAnAAAAUQAAACcAAAGMAAABfQAAAD0AAABKAAAALwAAAEsAAAA/AAAA\n",
              "IgAAAB0AAAGeAAAALQAAADwAAAAsAAAAGwAAAYYAAAA6AAAAIQAAAD0AAAAqAAAB1AAAADwAAAAj\n",
              "AAAAGwAAAEEAAAAsAAABfAAAADcAAAGRAAAAOgAAACkAAAGJAAABlAAAADMAAABEAAAAMwAAACAA\n",
              "AABIAAABpwAAAaYAAABAAAAARgAAAaYAAAA+AAAAGwAAAD4AAAGJAAABaAAAABRzdGNvAAAAAAAA\n",
              "AAEAAAAwAAAAYnVkdGEAAABabWV0YQAAAAAAAAAhaGRscgAAAAAAAAAAbWRpcmFwcGwAAAAAAAAA\n",
              "AAAAAAAtaWxzdAAAACWpdG9vAAAAHWRhdGEAAAABAAAAAExhdmY1OC43Ni4xMDA=\n",
              "\">\n",
              "  Your browser does not support the video tag.\n",
              "</video>"
            ]
          },
          "metadata": {},
          "execution_count": 9
        }
      ],
      "source": [
        "test_agent(env, policy, episodes=1)"
      ]
    },
    {
      "cell_type": "markdown",
      "metadata": {
        "id": "tF2UjZft6Vbg"
      },
      "source": [
        "#### Plot the policy"
      ]
    },
    {
      "cell_type": "code",
      "execution_count": 10,
      "metadata": {
        "id": "HJdUvc1T6Vbg",
        "outputId": "c1160dde-6606-471a-c1b4-8726e584ff17",
        "colab": {
          "base_uri": "https://localhost:8080/",
          "height": 933
        }
      },
      "outputs": [
        {
          "output_type": "display_data",
          "data": {
            "text/plain": [
              "<Figure size 500x500 with 1 Axes>"
            ],
            "image/png": "[encoded data removed]"
          },
          "metadata": {}
        },
        {
          "output_type": "display_data",
          "data": {
            "text/plain": [
              "<Figure size 800x400 with 2 Axes>"
            ],
            "image/png": "[encoded data removed]"
          },
          "metadata": {}
        }
      ],
      "source": [
        "plot_policy(policy_probs, frame)"
      ]
    },
    {
      "cell_type": "markdown",
      "metadata": {
        "id": "btCVXrhJ6Vbg"
      },
      "source": [
        "## Define value table $V(s)$"
      ]
    },
    {
      "cell_type": "markdown",
      "metadata": {
        "id": "byOFEsaA6Vbg"
      },
      "source": [
        "#### Create the $V(s)$ table"
      ]
    },
    {
      "cell_type": "code",
      "execution_count": 11,
      "metadata": {
        "id": "j2lX_33D6Vbg"
      },
      "outputs": [],
      "source": [
        "state_values = np.zeros(shape=(5,5))"
      ]
    },
    {
      "cell_type": "markdown",
      "metadata": {
        "id": "D9_EfMnY6Vbh"
      },
      "source": [
        "#### Plot $V(s)$"
      ]
    },
    {
      "cell_type": "code",
      "execution_count": 12,
      "metadata": {
        "id": "TI5YZTSF6Vbh",
        "outputId": "bc6c4da1-285d-4af9-a293-b08076dde8ae",
        "colab": {
          "base_uri": "https://localhost:8080/",
          "height": 365
        }
      },
      "outputs": [
        {
          "output_type": "display_data",
          "data": {
            "text/plain": [
              "<Figure size 1000x400 with 3 Axes>"
            ],
            "image/png": "[encoded data removed]"
          },
          "metadata": {}
        }
      ],
      "source": [
        "plot_values(state_values, frame)"
      ]
    },
    {
      "cell_type": "markdown",
      "metadata": {
        "id": "qfiam4Ef6Vbh"
      },
      "source": [
        "## Implement the Policy Iteration algorithm"
      ]
    },
    {
      "cell_type": "code",
      "execution_count": 13,
      "metadata": {
        "id": "N_5XQChT6Vbh"
      },
      "outputs": [],
      "source": [
        "def policy_evaluation(policy_probs, state_values, theta=1e-6, gamma=0.99):\n",
        "    delta = float(\"inf\")\n",
        "\n",
        "    while delta > theta:\n",
        "        delta = 0\n",
        "\n",
        "        for row in range(5):\n",
        "            for col in range(5):\n",
        "                old_value = state_values[(row, col)]\n",
        "                new_value = 0\n",
        "                action_probabilities = policy_probs[(row, col)]\n",
        "\n",
        "                for action, prob in enumerate(action_probabilities):\n",
        "                    next_state, reward, _, _ = env.simulate_step((row, col), action)\n",
        "                    new_value += prob * (reward + gamma * state_values[next_state])\n",
        "\n",
        "                state_values[(row, col)] = new_value\n",
        "\n",
        "                delta = max(delta, abs(old_value - new_value))"
      ]
    },
    {
      "cell_type": "code",
      "execution_count": 14,
      "metadata": {
        "id": "JRj7ZxuO6Vbh"
      },
      "outputs": [],
      "source": [
        "def policy_improvement(policy_probs, state_values, gamma=0.99):\n",
        "\n",
        "    policy_stable = True\n",
        "    for row in range(5):\n",
        "        for col in range(5):\n",
        "            old_action = policy_probs[(row, col)].argmax()\n",
        "\n",
        "            new_action = None\n",
        "            max_qsa = float(\"-inf\")\n",
        "\n",
        "            for action in range(4):\n",
        "                next_state, reward, _, _ = env.simulate_step((row, col), action)\n",
        "                qsa = reward + gamma * state_values[next_state]\n",
        "                if qsa > max_qsa:\n",
        "                    max_qsa = qsa\n",
        "                    new_action = action\n",
        "\n",
        "            action_probs = np.zeros(4)\n",
        "            action_probs[new_action] = 1.\n",
        "            policy_probs[(row, col)] = action_probs\n",
        "\n",
        "            if new_action != old_action:\n",
        "                policy_stable = False\n",
        "\n",
        "    return policy_stable"
      ]
    },
    {
      "cell_type": "code",
      "execution_count": null,
      "metadata": {
        "id": "-0F0aB_f6Vbh"
      },
      "outputs": [],
      "source": [
        "def policy_iteration(policy_probs, state_values, theta=1e-6, gamma=0.99):\n",
        "    policy_stable = False\n",
        "\n",
        "    while not policy_stable:\n",
        "\n",
        "        policy_evaluation(policy_probs, state_values, theta, gamma)\n",
        "\n",
        "        policy_stable = policy_improvement(policy_probs, state_values, gamma)"
      ]
    },
    {
      "cell_type": "code",
      "execution_count": null,
      "metadata": {
        "id": "0eZr-1ko6Vbh"
      },
      "outputs": [],
      "source": [
        "policy_iteration(policy_probs, state_values)"
      ]
    },
    {
      "cell_type": "markdown",
      "metadata": {
        "id": "zHHT9iLY6Vbh"
      },
      "source": [
        "## Show results"
      ]
    },
    {
      "cell_type": "markdown",
      "source": [
        "Show resulting value table V(s)"
      ],
      "metadata": {
        "id": "4bVf7AMd7ajW"
      }
    },
    {
      "cell_type": "code",
      "source": [
        "plot_values(state_values, frame)"
      ],
      "metadata": {
        "id": "Y1GDXzvt7atl"
      },
      "execution_count": null,
      "outputs": []
    },
    {
      "cell_type": "markdown",
      "source": [
        "Show resulting policy $\\pi(\\cdot|s)$"
      ],
      "metadata": {
        "id": "1OdMtp1n7hBU"
      }
    },
    {
      "cell_type": "code",
      "source": [
        "plot_policy(policy_probs, frame)"
      ],
      "metadata": {
        "id": "y4u6alml7hHQ"
      },
      "execution_count": null,
      "outputs": []
    },
    {
      "cell_type": "markdown",
      "metadata": {
        "id": "onu9Yu8D6Vbh"
      },
      "source": [
        "#### Test the resulting agent"
      ]
    },
    {
      "cell_type": "code",
      "execution_count": null,
      "metadata": {
        "id": "U_8oUWxl6Vbh"
      },
      "outputs": [],
      "source": [
        "test_agent(env, policy)"
      ]
    },
    {
      "cell_type": "markdown",
      "metadata": {
        "id": "bixFf0kp6Vbh"
      },
      "source": [
        "## Resources"
      ]
    },
    {
      "cell_type": "markdown",
      "metadata": {
        "id": "NIU61hO36Vbh"
      },
      "source": [
        "[[1] Reinforcement Learning: An Introduction. Ch. 4: Dynamic Programming](https://web.stanford.edu/class/psych209/Readings/SuttonBartoIPRLBook2ndEd.pdf)"
      ]
    }
  ],
  "metadata": {
    "kernelspec": {
      "display_name": "Python 3",
      "language": "python",
      "name": "python3"
    },
    "language_info": {
      "codemirror_mode": {
        "name": "ipython",
        "version": 3
      },
      "file_extension": ".py",
      "mimetype": "text/x-python",
      "name": "python",
      "nbconvert_exporter": "python",
      "pygments_lexer": "ipython3",
      "version": "3.8.5"
    },
    "colab": {
      "provenance": []
    }
  },
  "nbformat": 4,
  "nbformat_minor": 0
}